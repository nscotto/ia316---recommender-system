{
 "cells": [
  {
   "cell_type": "markdown",
   "metadata": {},
   "source": [
    "# Evaluation"
   ]
  },
  {
   "cell_type": "code",
   "execution_count": 1,
   "metadata": {},
   "outputs": [
    {
     "name": "stderr",
     "output_type": "stream",
     "text": [
      "Using TensorFlow backend.\n"
     ]
    }
   ],
   "source": [
    "from recommender_evaluation import eval_recommender, eval_loop_recommender\n",
    "\n",
    "from deep_implicit_feedback_recsys import ImplicitRecommenderSimple, \\\n",
    "    ImplicitRecommenderWithNull, ImplicitRecommenderWithNull_binary_indicator, \\\n",
    "    ImplicitRecommenderWithNull_no_indicator"
   ]
  },
  {
   "cell_type": "code",
   "execution_count": 2,
   "metadata": {},
   "outputs": [],
   "source": [
    "recommender_dict = { str(x(0,0)): x for x in (ImplicitRecommenderSimple, ImplicitRecommenderWithNull, \n",
    "                                    ImplicitRecommenderWithNull_binary_indicator, ImplicitRecommenderWithNull_no_indicator)}"
   ]
  },
  {
   "cell_type": "code",
   "execution_count": 3,
   "metadata": {},
   "outputs": [
    {
     "data": {
      "text/plain": [
       "([134.4366834807736,\n",
       "  136.19327375363468,\n",
       "  125.40873883800542,\n",
       "  162.94795185464176,\n",
       "  94.55780778183578,\n",
       "  174.6815572241738,\n",
       "  165.06253343155475,\n",
       "  201.71747098707056,\n",
       "  103.65899626970153,\n",
       "  179.73124706178967],\n",
       " [0.311, 0.247, 0.299, 0.31, 0.255, 0.336, 0.304, 0.337, 0.294, 0.331])"
      ]
     },
     "execution_count": 3,
     "metadata": {},
     "output_type": "execute_result"
    }
   ],
   "source": [
    "eval_loop_recommender(ImplicitRecommenderWithNull, online_batch_size=100, verbose=0)"
   ]
  },
  {
   "cell_type": "markdown",
   "metadata": {},
   "source": [
    "## Pas de distinction pour les utilisateurs nouveaux"
   ]
  },
  {
   "cell_type": "markdown",
   "metadata": {},
   "source": [
    "### Hors Ligne"
   ]
  },
  {
   "cell_type": "code",
   "execution_count": 4,
   "metadata": {},
   "outputs": [
    {
     "name": "stdout",
     "output_type": "stream",
     "text": [
      "CPU times: user 4min 57s, sys: 14.7 s, total: 5min 12s\n",
      "Wall time: 10min 57s\n"
     ]
    }
   ],
   "source": [
    "%%time\n",
    "evaluation = { reco_name: eval_loop_recommender(Recommender) for (reco_name, Recommender) in recommender_dict.items() }"
   ]
  },
  {
   "cell_type": "code",
   "execution_count": 5,
   "metadata": {},
   "outputs": [
    {
     "data": {
      "text/plain": [
       "{'ImplicitRecommenderSimple': ([253.15895010707183,\n",
       "   18.112047285804696,\n",
       "   181.74722403351515,\n",
       "   43.92628540333898,\n",
       "   273.12373399194274,\n",
       "   28.32947223197518,\n",
       "   40.88366551997937,\n",
       "   15.979165060901904,\n",
       "   42.44851750694668,\n",
       "   329.3306490079976],\n",
       "  [0.272, 0.306, 0.203, 0.311, 0.292, 0.262, 0.297, 0.295, 0.276, 0.343]),\n",
       " 'ImplicitRecommenderWithNull': ([28.854897853300855,\n",
       "   14.319717003439365,\n",
       "   287.07454488268763,\n",
       "   278.02621174767074,\n",
       "   313.4371243525005,\n",
       "   231.1159542502009,\n",
       "   260.9950810902325,\n",
       "   300.32175845704353,\n",
       "   249.95582163083827,\n",
       "   203.58931186411837],\n",
       "  [0.37, 0.266, 0.31, 0.289, 0.337, 0.256, 0.28, 0.322, 0.294, 0.222]),\n",
       " 'ImplicitRecommenderWithNull_binary_indicator': ([241.25281228677227,\n",
       "   281.4069550628763,\n",
       "   31.49857789020558,\n",
       "   253.48255168645113,\n",
       "   34.846865250846115,\n",
       "   29.483261896047154,\n",
       "   10.176029381255686,\n",
       "   12.443366202625377,\n",
       "   142.97776784178683,\n",
       "   263.5970361686495],\n",
       "  [0.294, 0.327, 0.306, 0.289, 0.353, 0.305, 0.24, 0.288, 0.287, 0.288]),\n",
       " 'ImplicitRecommenderWithNull_no_indicator': ([316.59686766775894,\n",
       "   9.542593106752474,\n",
       "   12.587510116572863,\n",
       "   248.47733927929258,\n",
       "   157.10244791112876,\n",
       "   254.76662983867405,\n",
       "   27.223244902301822,\n",
       "   30.749405935024903,\n",
       "   29.791964484604748,\n",
       "   215.48008775363405],\n",
       "  [0.345, 0.286, 0.229, 0.266, 0.351, 0.284, 0.219, 0.259, 0.275, 0.244])}"
      ]
     },
     "execution_count": 5,
     "metadata": {},
     "output_type": "execute_result"
    }
   ],
   "source": [
    "evaluation"
   ]
  },
  {
   "cell_type": "markdown",
   "metadata": {},
   "source": [
    "### En ligne"
   ]
  },
  {
   "cell_type": "code",
   "execution_count": 6,
   "metadata": {},
   "outputs": [
    {
     "ename": "ValueError",
     "evalue": "Error when checking input: expected positive_metadata_input to have shape (6,) but got array with shape (1,)",
     "output_type": "error",
     "traceback": [
      "\u001b[0;31m---------------------------------------------------------------------------\u001b[0m",
      "\u001b[0;31mValueError\u001b[0m                                Traceback (most recent call last)",
      "\u001b[0;32m<timed exec>\u001b[0m in \u001b[0;36m<module>\u001b[0;34m\u001b[0m\n",
      "\u001b[0;32m<timed exec>\u001b[0m in \u001b[0;36m<dictcomp>\u001b[0;34m(.0)\u001b[0m\n",
      "\u001b[0;32m~/Documents/IA316 - E-Commerce/ia316---recommender-system/env3/recommender_evaluation.py\u001b[0m in \u001b[0;36meval_loop_recommender\u001b[0;34m(RecommenderClass, n_epochs, n_loop, n_pred, online_batch_size, verbose, ID)\u001b[0m\n\u001b[1;32m     53\u001b[0m         reward, rate = eval_recommender(RecommenderClass, n_epochs=n_epochs,\n\u001b[1;32m     54\u001b[0m                 \u001b[0mn_pred\u001b[0m\u001b[0;34m=\u001b[0m\u001b[0mn_pred\u001b[0m\u001b[0;34m,\u001b[0m \u001b[0monline_batch_size\u001b[0m\u001b[0;34m=\u001b[0m\u001b[0monline_batch_size\u001b[0m\u001b[0;34m,\u001b[0m\u001b[0;34m\u001b[0m\u001b[0;34m\u001b[0m\u001b[0m\n\u001b[0;32m---> 55\u001b[0;31m                 verbose=verbose, ID=ID)\n\u001b[0m\u001b[1;32m     56\u001b[0m         \u001b[0mrewards\u001b[0m\u001b[0;34m.\u001b[0m\u001b[0mappend\u001b[0m\u001b[0;34m(\u001b[0m\u001b[0mreward\u001b[0m\u001b[0;34m)\u001b[0m\u001b[0;34m\u001b[0m\u001b[0;34m\u001b[0m\u001b[0m\n\u001b[1;32m     57\u001b[0m         \u001b[0mrates\u001b[0m\u001b[0;34m.\u001b[0m\u001b[0mappend\u001b[0m\u001b[0;34m(\u001b[0m\u001b[0mrate\u001b[0m\u001b[0;34m)\u001b[0m\u001b[0;34m\u001b[0m\u001b[0;34m\u001b[0m\u001b[0m\n",
      "\u001b[0;32m~/Documents/IA316 - E-Commerce/ia316---recommender-system/env3/recommender_evaluation.py\u001b[0m in \u001b[0;36meval_recommender\u001b[0;34m(RecommenderClass, n_epochs, n_pred, online_batch_size, verbose, ID)\u001b[0m\n\u001b[1;32m     88\u001b[0m                         (state_history, action_history, reward_history))\n\u001b[1;32m     89\u001b[0m                 recommender.train(state_history, action_history, reward_history,\n\u001b[0;32m---> 90\u001b[0;31m                         verbose=verbose)\n\u001b[0m\u001b[1;32m     91\u001b[0m                 \u001b[0mstate_history\u001b[0m\u001b[0;34m,\u001b[0m \u001b[0maction_history\u001b[0m\u001b[0;34m,\u001b[0m \u001b[0mreward_history\u001b[0m \u001b[0;34m=\u001b[0m \u001b[0;34m(\u001b[0m\u001b[0;34m[\u001b[0m\u001b[0;34m]\u001b[0m \u001b[0;32mfor\u001b[0m \u001b[0m_\u001b[0m \u001b[0;32min\u001b[0m \u001b[0mrange\u001b[0m\u001b[0;34m(\u001b[0m\u001b[0;36m3\u001b[0m\u001b[0;34m)\u001b[0m\u001b[0;34m)\u001b[0m\u001b[0;34m\u001b[0m\u001b[0;34m\u001b[0m\u001b[0m\n\u001b[1;32m     92\u001b[0m             \u001b[0mpred\u001b[0m \u001b[0;34m=\u001b[0m \u001b[0mrecommender\u001b[0m\u001b[0;34m.\u001b[0m\u001b[0mpredict\u001b[0m\u001b[0;34m(\u001b[0m\u001b[0mnext_state\u001b[0m\u001b[0;34m)\u001b[0m\u001b[0;34m\u001b[0m\u001b[0;34m\u001b[0m\u001b[0m\n",
      "\u001b[0;32m~/Documents/IA316 - E-Commerce/ia316---recommender-system/env3/deep_implicit_feedback_recsys.py\u001b[0m in \u001b[0;36mtrain\u001b[0;34m(self, state_history, action_history, reward_history, n_epochs, batch_size, verbose)\u001b[0m\n\u001b[1;32m    149\u001b[0m             \u001b[0;31m# sampled triplets.\u001b[0m\u001b[0;34m\u001b[0m\u001b[0;34m\u001b[0m\u001b[0;34m\u001b[0m\u001b[0m\n\u001b[1;32m    150\u001b[0m             self._deep_triplet_model.fit(triplet_inputs, fake_y, shuffle=True,\n\u001b[0;32m--> 151\u001b[0;31m                     batch_size=batch_size, epochs=1, verbose=verbose)\n\u001b[0m\u001b[1;32m    152\u001b[0m         \u001b[0;32mreturn\u001b[0m \u001b[0mself\u001b[0m\u001b[0;34m\u001b[0m\u001b[0;34m\u001b[0m\u001b[0m\n\u001b[1;32m    153\u001b[0m \u001b[0;34m\u001b[0m\u001b[0m\n",
      "\u001b[0;32m~/.anaconda3/lib/python3.6/site-packages/keras/engine/training.py\u001b[0m in \u001b[0;36mfit\u001b[0;34m(self, x, y, batch_size, epochs, verbose, callbacks, validation_split, validation_data, shuffle, class_weight, sample_weight, initial_epoch, steps_per_epoch, validation_steps, **kwargs)\u001b[0m\n\u001b[1;32m    950\u001b[0m             \u001b[0msample_weight\u001b[0m\u001b[0;34m=\u001b[0m\u001b[0msample_weight\u001b[0m\u001b[0;34m,\u001b[0m\u001b[0;34m\u001b[0m\u001b[0;34m\u001b[0m\u001b[0m\n\u001b[1;32m    951\u001b[0m             \u001b[0mclass_weight\u001b[0m\u001b[0;34m=\u001b[0m\u001b[0mclass_weight\u001b[0m\u001b[0;34m,\u001b[0m\u001b[0;34m\u001b[0m\u001b[0;34m\u001b[0m\u001b[0m\n\u001b[0;32m--> 952\u001b[0;31m             batch_size=batch_size)\n\u001b[0m\u001b[1;32m    953\u001b[0m         \u001b[0;31m# Prepare validation data.\u001b[0m\u001b[0;34m\u001b[0m\u001b[0;34m\u001b[0m\u001b[0;34m\u001b[0m\u001b[0m\n\u001b[1;32m    954\u001b[0m         \u001b[0mdo_validation\u001b[0m \u001b[0;34m=\u001b[0m \u001b[0;32mFalse\u001b[0m\u001b[0;34m\u001b[0m\u001b[0;34m\u001b[0m\u001b[0m\n",
      "\u001b[0;32m~/.anaconda3/lib/python3.6/site-packages/keras/engine/training.py\u001b[0m in \u001b[0;36m_standardize_user_data\u001b[0;34m(self, x, y, sample_weight, class_weight, check_array_lengths, batch_size)\u001b[0m\n\u001b[1;32m    749\u001b[0m             \u001b[0mfeed_input_shapes\u001b[0m\u001b[0;34m,\u001b[0m\u001b[0;34m\u001b[0m\u001b[0;34m\u001b[0m\u001b[0m\n\u001b[1;32m    750\u001b[0m             \u001b[0mcheck_batch_axis\u001b[0m\u001b[0;34m=\u001b[0m\u001b[0;32mFalse\u001b[0m\u001b[0;34m,\u001b[0m  \u001b[0;31m# Don't enforce the batch size.\u001b[0m\u001b[0;34m\u001b[0m\u001b[0;34m\u001b[0m\u001b[0m\n\u001b[0;32m--> 751\u001b[0;31m             exception_prefix='input')\n\u001b[0m\u001b[1;32m    752\u001b[0m \u001b[0;34m\u001b[0m\u001b[0m\n\u001b[1;32m    753\u001b[0m         \u001b[0;32mif\u001b[0m \u001b[0my\u001b[0m \u001b[0;32mis\u001b[0m \u001b[0;32mnot\u001b[0m \u001b[0;32mNone\u001b[0m\u001b[0;34m:\u001b[0m\u001b[0;34m\u001b[0m\u001b[0;34m\u001b[0m\u001b[0m\n",
      "\u001b[0;32m~/.anaconda3/lib/python3.6/site-packages/keras/engine/training_utils.py\u001b[0m in \u001b[0;36mstandardize_input_data\u001b[0;34m(data, names, shapes, check_batch_axis, exception_prefix)\u001b[0m\n\u001b[1;32m    136\u001b[0m                             \u001b[0;34m': expected '\u001b[0m \u001b[0;34m+\u001b[0m \u001b[0mnames\u001b[0m\u001b[0;34m[\u001b[0m\u001b[0mi\u001b[0m\u001b[0;34m]\u001b[0m \u001b[0;34m+\u001b[0m \u001b[0;34m' to have shape '\u001b[0m \u001b[0;34m+\u001b[0m\u001b[0;34m\u001b[0m\u001b[0;34m\u001b[0m\u001b[0m\n\u001b[1;32m    137\u001b[0m                             \u001b[0mstr\u001b[0m\u001b[0;34m(\u001b[0m\u001b[0mshape\u001b[0m\u001b[0;34m)\u001b[0m \u001b[0;34m+\u001b[0m \u001b[0;34m' but got array with shape '\u001b[0m \u001b[0;34m+\u001b[0m\u001b[0;34m\u001b[0m\u001b[0;34m\u001b[0m\u001b[0m\n\u001b[0;32m--> 138\u001b[0;31m                             str(data_shape))\n\u001b[0m\u001b[1;32m    139\u001b[0m     \u001b[0;32mreturn\u001b[0m \u001b[0mdata\u001b[0m\u001b[0;34m\u001b[0m\u001b[0;34m\u001b[0m\u001b[0m\n\u001b[1;32m    140\u001b[0m \u001b[0;34m\u001b[0m\u001b[0m\n",
      "\u001b[0;31mValueError\u001b[0m: Error when checking input: expected positive_metadata_input to have shape (6,) but got array with shape (1,)"
     ]
    }
   ],
   "source": [
    "%%time\n",
    "evaluation_online = { reco_name: eval_loop_recommender(Recommender, online_batch_size=1) for (reco_name, Recommender) in recommender_dict.items() }"
   ]
  },
  {
   "cell_type": "code",
   "execution_count": 7,
   "metadata": {},
   "outputs": [
    {
     "name": "stdout",
     "output_type": "stream",
     "text": [
      "CPU times: user 7min 44s, sys: 17.9 s, total: 8min 2s\n",
      "Wall time: 13min 2s\n"
     ]
    }
   ],
   "source": [
    "%%time\n",
    "evaluation_online = { reco_name: eval_loop_recommender(Recommender, online_batch_size=100) for (reco_name, Recommender) in recommender_dict.items() }\n"
   ]
  },
  {
   "cell_type": "code",
   "execution_count": 9,
   "metadata": {},
   "outputs": [
    {
     "data": {
      "text/plain": [
       "([120.1677969727478,\n",
       "  160.46956322983962,\n",
       "  168.369545330113,\n",
       "  139.73368784404508,\n",
       "  156.539291121694,\n",
       "  126.461284312939,\n",
       "  141.03343367158374,\n",
       "  148.77857708264452,\n",
       "  162.24386280332735,\n",
       "  147.78636591019614],\n",
       " [0.268, 0.325, 0.275, 0.306, 0.307, 0.272, 0.265, 0.303, 0.306, 0.238])"
      ]
     },
     "execution_count": 9,
     "metadata": {},
     "output_type": "execute_result"
    }
   ],
   "source": [
    "eval_loop_recommender(ImplicitRecommenderWithNull, online_batch_size=1)"
   ]
  },
  {
   "cell_type": "code",
   "execution_count": null,
   "metadata": {},
   "outputs": [],
   "source": [
    "eval_loop_recommender(ImplicitRecommenderSimple, online_batch_size=1)\n"
   ]
  }
 ],
 "metadata": {
  "kernelspec": {
   "display_name": "Python 3",
   "language": "python",
   "name": "python3"
  },
  "language_info": {
   "codemirror_mode": {
    "name": "ipython",
    "version": 3
   },
   "file_extension": ".py",
   "mimetype": "text/x-python",
   "name": "python",
   "nbconvert_exporter": "python",
   "pygments_lexer": "ipython3",
   "version": "3.6.8"
  }
 },
 "nbformat": 4,
 "nbformat_minor": 2
}
