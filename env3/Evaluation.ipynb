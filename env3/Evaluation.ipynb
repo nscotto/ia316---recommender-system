{
 "cells": [
  {
   "cell_type": "markdown",
   "metadata": {},
   "source": [
    "# Evaluation"
   ]
  },
  {
   "cell_type": "code",
   "execution_count": 1,
   "metadata": {},
   "outputs": [
    {
     "name": "stderr",
     "output_type": "stream",
     "text": [
      "Using TensorFlow backend.\n"
     ]
    }
   ],
   "source": [
    "from recommender_evaluation import eval_recommender, eval_loop_recommender\n",
    "\n",
    "from deep_implicit_feedback_recsys import ImplicitRecommenderSimple, \\\n",
    "    ImplicitRecommenderWithNull, ImplicitRecommenderWithNull_binary_indicator, \\\n",
    "    ImplicitRecommenderWithNull_no_indicator"
   ]
  },
  {
   "cell_type": "code",
   "execution_count": 2,
   "metadata": {},
   "outputs": [],
   "source": [
    "recommender_dict = { str(x(0,0)): x for x in (ImplicitRecommenderSimple, ImplicitRecommenderWithNull, \n",
    "                                    ImplicitRecommenderWithNull_binary_indicator, ImplicitRecommenderWithNull_no_indicator)}"
   ]
  },
  {
   "cell_type": "code",
   "execution_count": 3,
   "metadata": {},
   "outputs": [
    {
     "data": {
      "text/plain": [
       "([138.13411035317992,\n",
       "  188.55078767196758,\n",
       "  159.11357317111697,\n",
       "  156.83156334994445,\n",
       "  178.44274251220938,\n",
       "  176.0096869276853,\n",
       "  151.1588038457355,\n",
       "  150.36426517977247,\n",
       "  137.6177572532724,\n",
       "  124.5798287584899],\n",
       " [0.227, 0.309, 0.315, 0.244, 0.284, 0.34, 0.303, 0.267, 0.273, 0.258])"
      ]
     },
     "execution_count": 3,
     "metadata": {},
     "output_type": "execute_result"
    }
   ],
   "source": [
    "eval_loop_recommender(ImplicitRecommenderWithNull, online_batch_size=100, verbose=0)"
   ]
  },
  {
   "cell_type": "markdown",
   "metadata": {},
   "source": [
    "## Pas de distinction pour les utilisateurs nouveaux"
   ]
  },
  {
   "cell_type": "markdown",
   "metadata": {},
   "source": [
    "### Hors Ligne"
   ]
  },
  {
   "cell_type": "code",
   "execution_count": 4,
   "metadata": {},
   "outputs": [
    {
     "name": "stdout",
     "output_type": "stream",
     "text": [
      "CPU times: user 6min 7s, sys: 20.3 s, total: 6min 27s\n",
      "Wall time: 12min 15s\n"
     ]
    }
   ],
   "source": [
    "%%time\n",
    "evaluation = { reco_name: eval_loop_recommender(Recommender) for (reco_name, Recommender) in recommender_dict.items() }"
   ]
  },
  {
   "cell_type": "code",
   "execution_count": 5,
   "metadata": {},
   "outputs": [
    {
     "data": {
      "text/plain": [
       "{'ImplicitRecommenderSimple': ([19.701360001158548,\n",
       "   31.482370330664434,\n",
       "   15.788351138955717,\n",
       "   28.000773852276772,\n",
       "   18.549117223228496,\n",
       "   257.10169577665346,\n",
       "   29.618999953434336,\n",
       "   158.5749532359718,\n",
       "   144.92287017884448,\n",
       "   12.005815825291949],\n",
       "  [0.222, 0.263, 0.183, 0.285, 0.178, 0.27, 0.299, 0.167, 0.245, 0.237]),\n",
       " 'ImplicitRecommenderWithNull': ([268.5668428966679,\n",
       "   219.9183337135124,\n",
       "   322.27962345496746,\n",
       "   244.51397139098063,\n",
       "   274.7534300001751,\n",
       "   216.9260433595372,\n",
       "   246.46201502738631,\n",
       "   281.7339854243921,\n",
       "   14.144885404179531,\n",
       "   216.0262400692685],\n",
       "  [0.297, 0.228, 0.351, 0.269, 0.296, 0.225, 0.259, 0.302, 0.27, 0.241]),\n",
       " 'ImplicitRecommenderWithNull_binary_indicator': ([174.0423500351838,\n",
       "   13.906324263459263,\n",
       "   293.78393892502396,\n",
       "   18.20160495231869,\n",
       "   272.92350187524914,\n",
       "   11.035654977742247,\n",
       "   108.61031830599231,\n",
       "   32.888835241226865,\n",
       "   259.1928620876491,\n",
       "   20.646098436591394],\n",
       "  [0.205, 0.346, 0.306, 0.148, 0.296, 0.247, 0.357, 0.286, 0.271, 0.317]),\n",
       " 'ImplicitRecommenderWithNull_no_indicator': ([280.0221328720758,\n",
       "   274.01346661352386,\n",
       "   210.4614373459325,\n",
       "   282.579483253174,\n",
       "   14.966569089451522,\n",
       "   268.54720453622895,\n",
       "   350.78264234988757,\n",
       "   239.88449597908115,\n",
       "   214.1044684142275,\n",
       "   336.63957232783633],\n",
       "  [0.307, 0.286, 0.251, 0.299, 0.274, 0.303, 0.375, 0.279, 0.228, 0.372])}"
      ]
     },
     "execution_count": 5,
     "metadata": {},
     "output_type": "execute_result"
    }
   ],
   "source": [
    "evaluation"
   ]
  },
  {
   "cell_type": "markdown",
   "metadata": {},
   "source": [
    "### En ligne"
   ]
  },
  {
   "cell_type": "code",
   "execution_count": 6,
   "metadata": {},
   "outputs": [
    {
     "ename": "ValueError",
     "evalue": "Error when checking input: expected positive_metadata_input to have shape (6,) but got array with shape (1,)",
     "output_type": "error",
     "traceback": [
      "\u001b[0;31m---------------------------------------------------------------------------\u001b[0m",
      "\u001b[0;31mValueError\u001b[0m                                Traceback (most recent call last)",
      "\u001b[0;32m<timed exec>\u001b[0m in \u001b[0;36m<module>\u001b[0;34m\u001b[0m\n",
      "\u001b[0;32m<timed exec>\u001b[0m in \u001b[0;36m<dictcomp>\u001b[0;34m(.0)\u001b[0m\n",
      "\u001b[0;32m~/Documents/IA316 - E-Commerce/ia316---recommender-system/env3/recommender_evaluation.py\u001b[0m in \u001b[0;36meval_loop_recommender\u001b[0;34m(RecommenderClass, n_epochs, n_loop, n_pred, online_batch_size, verbose, ID)\u001b[0m\n\u001b[1;32m     53\u001b[0m         reward, rate = eval_recommender(RecommenderClass, n_epochs=n_epochs,\n\u001b[1;32m     54\u001b[0m                 \u001b[0mn_pred\u001b[0m\u001b[0;34m=\u001b[0m\u001b[0mn_pred\u001b[0m\u001b[0;34m,\u001b[0m \u001b[0monline_batch_size\u001b[0m\u001b[0;34m=\u001b[0m\u001b[0monline_batch_size\u001b[0m\u001b[0;34m,\u001b[0m\u001b[0;34m\u001b[0m\u001b[0;34m\u001b[0m\u001b[0m\n\u001b[0;32m---> 55\u001b[0;31m                 verbose=verbose, ID=ID)\n\u001b[0m\u001b[1;32m     56\u001b[0m         \u001b[0mrewards\u001b[0m\u001b[0;34m.\u001b[0m\u001b[0mappend\u001b[0m\u001b[0;34m(\u001b[0m\u001b[0mreward\u001b[0m\u001b[0;34m)\u001b[0m\u001b[0;34m\u001b[0m\u001b[0;34m\u001b[0m\u001b[0m\n\u001b[1;32m     57\u001b[0m         \u001b[0mrates\u001b[0m\u001b[0;34m.\u001b[0m\u001b[0mappend\u001b[0m\u001b[0;34m(\u001b[0m\u001b[0mrate\u001b[0m\u001b[0;34m)\u001b[0m\u001b[0;34m\u001b[0m\u001b[0;34m\u001b[0m\u001b[0m\n",
      "\u001b[0;32m~/Documents/IA316 - E-Commerce/ia316---recommender-system/env3/recommender_evaluation.py\u001b[0m in \u001b[0;36meval_recommender\u001b[0;34m(RecommenderClass, n_epochs, n_pred, online_batch_size, verbose, ID)\u001b[0m\n\u001b[1;32m     88\u001b[0m                         (state_history, action_history, reward_history))\n\u001b[1;32m     89\u001b[0m                 recommender.train(state_history, action_history, reward_history,\n\u001b[0;32m---> 90\u001b[0;31m                         verbose=verbose)\n\u001b[0m\u001b[1;32m     91\u001b[0m                 \u001b[0mstate_history\u001b[0m\u001b[0;34m,\u001b[0m \u001b[0maction_history\u001b[0m\u001b[0;34m,\u001b[0m \u001b[0mreward_history\u001b[0m \u001b[0;34m=\u001b[0m \u001b[0;34m(\u001b[0m\u001b[0;34m[\u001b[0m\u001b[0;34m]\u001b[0m \u001b[0;32mfor\u001b[0m \u001b[0m_\u001b[0m \u001b[0;32min\u001b[0m \u001b[0mrange\u001b[0m\u001b[0;34m(\u001b[0m\u001b[0;36m3\u001b[0m\u001b[0;34m)\u001b[0m\u001b[0;34m)\u001b[0m\u001b[0;34m\u001b[0m\u001b[0;34m\u001b[0m\u001b[0m\n\u001b[1;32m     92\u001b[0m             \u001b[0mpred\u001b[0m \u001b[0;34m=\u001b[0m \u001b[0mrecommender\u001b[0m\u001b[0;34m.\u001b[0m\u001b[0mpredict\u001b[0m\u001b[0;34m(\u001b[0m\u001b[0mnext_state\u001b[0m\u001b[0;34m)\u001b[0m\u001b[0;34m\u001b[0m\u001b[0;34m\u001b[0m\u001b[0m\n",
      "\u001b[0;32m~/Documents/IA316 - E-Commerce/ia316---recommender-system/env3/deep_implicit_feedback_recsys.py\u001b[0m in \u001b[0;36mtrain\u001b[0;34m(self, state_history, action_history, reward_history, n_epochs, batch_size, verbose)\u001b[0m\n\u001b[1;32m    149\u001b[0m             \u001b[0;31m# sampled triplets.\u001b[0m\u001b[0;34m\u001b[0m\u001b[0;34m\u001b[0m\u001b[0;34m\u001b[0m\u001b[0m\n\u001b[1;32m    150\u001b[0m             self._deep_triplet_model.fit(triplet_inputs, fake_y, shuffle=True,\n\u001b[0;32m--> 151\u001b[0;31m                     batch_size=batch_size, epochs=1, verbose=verbose)\n\u001b[0m\u001b[1;32m    152\u001b[0m         \u001b[0;32mreturn\u001b[0m \u001b[0mself\u001b[0m\u001b[0;34m\u001b[0m\u001b[0;34m\u001b[0m\u001b[0m\n\u001b[1;32m    153\u001b[0m \u001b[0;34m\u001b[0m\u001b[0m\n",
      "\u001b[0;32m~/.anaconda3/lib/python3.6/site-packages/keras/engine/training.py\u001b[0m in \u001b[0;36mfit\u001b[0;34m(self, x, y, batch_size, epochs, verbose, callbacks, validation_split, validation_data, shuffle, class_weight, sample_weight, initial_epoch, steps_per_epoch, validation_steps, **kwargs)\u001b[0m\n\u001b[1;32m    950\u001b[0m             \u001b[0msample_weight\u001b[0m\u001b[0;34m=\u001b[0m\u001b[0msample_weight\u001b[0m\u001b[0;34m,\u001b[0m\u001b[0;34m\u001b[0m\u001b[0;34m\u001b[0m\u001b[0m\n\u001b[1;32m    951\u001b[0m             \u001b[0mclass_weight\u001b[0m\u001b[0;34m=\u001b[0m\u001b[0mclass_weight\u001b[0m\u001b[0;34m,\u001b[0m\u001b[0;34m\u001b[0m\u001b[0;34m\u001b[0m\u001b[0m\n\u001b[0;32m--> 952\u001b[0;31m             batch_size=batch_size)\n\u001b[0m\u001b[1;32m    953\u001b[0m         \u001b[0;31m# Prepare validation data.\u001b[0m\u001b[0;34m\u001b[0m\u001b[0;34m\u001b[0m\u001b[0;34m\u001b[0m\u001b[0m\n\u001b[1;32m    954\u001b[0m         \u001b[0mdo_validation\u001b[0m \u001b[0;34m=\u001b[0m \u001b[0;32mFalse\u001b[0m\u001b[0;34m\u001b[0m\u001b[0;34m\u001b[0m\u001b[0m\n",
      "\u001b[0;32m~/.anaconda3/lib/python3.6/site-packages/keras/engine/training.py\u001b[0m in \u001b[0;36m_standardize_user_data\u001b[0;34m(self, x, y, sample_weight, class_weight, check_array_lengths, batch_size)\u001b[0m\n\u001b[1;32m    749\u001b[0m             \u001b[0mfeed_input_shapes\u001b[0m\u001b[0;34m,\u001b[0m\u001b[0;34m\u001b[0m\u001b[0;34m\u001b[0m\u001b[0m\n\u001b[1;32m    750\u001b[0m             \u001b[0mcheck_batch_axis\u001b[0m\u001b[0;34m=\u001b[0m\u001b[0;32mFalse\u001b[0m\u001b[0;34m,\u001b[0m  \u001b[0;31m# Don't enforce the batch size.\u001b[0m\u001b[0;34m\u001b[0m\u001b[0;34m\u001b[0m\u001b[0m\n\u001b[0;32m--> 751\u001b[0;31m             exception_prefix='input')\n\u001b[0m\u001b[1;32m    752\u001b[0m \u001b[0;34m\u001b[0m\u001b[0m\n\u001b[1;32m    753\u001b[0m         \u001b[0;32mif\u001b[0m \u001b[0my\u001b[0m \u001b[0;32mis\u001b[0m \u001b[0;32mnot\u001b[0m \u001b[0;32mNone\u001b[0m\u001b[0;34m:\u001b[0m\u001b[0;34m\u001b[0m\u001b[0;34m\u001b[0m\u001b[0m\n",
      "\u001b[0;32m~/.anaconda3/lib/python3.6/site-packages/keras/engine/training_utils.py\u001b[0m in \u001b[0;36mstandardize_input_data\u001b[0;34m(data, names, shapes, check_batch_axis, exception_prefix)\u001b[0m\n\u001b[1;32m    136\u001b[0m                             \u001b[0;34m': expected '\u001b[0m \u001b[0;34m+\u001b[0m \u001b[0mnames\u001b[0m\u001b[0;34m[\u001b[0m\u001b[0mi\u001b[0m\u001b[0;34m]\u001b[0m \u001b[0;34m+\u001b[0m \u001b[0;34m' to have shape '\u001b[0m \u001b[0;34m+\u001b[0m\u001b[0;34m\u001b[0m\u001b[0;34m\u001b[0m\u001b[0m\n\u001b[1;32m    137\u001b[0m                             \u001b[0mstr\u001b[0m\u001b[0;34m(\u001b[0m\u001b[0mshape\u001b[0m\u001b[0;34m)\u001b[0m \u001b[0;34m+\u001b[0m \u001b[0;34m' but got array with shape '\u001b[0m \u001b[0;34m+\u001b[0m\u001b[0;34m\u001b[0m\u001b[0;34m\u001b[0m\u001b[0m\n\u001b[0;32m--> 138\u001b[0;31m                             str(data_shape))\n\u001b[0m\u001b[1;32m    139\u001b[0m     \u001b[0;32mreturn\u001b[0m \u001b[0mdata\u001b[0m\u001b[0;34m\u001b[0m\u001b[0;34m\u001b[0m\u001b[0m\n\u001b[1;32m    140\u001b[0m \u001b[0;34m\u001b[0m\u001b[0m\n",
      "\u001b[0;31mValueError\u001b[0m: Error when checking input: expected positive_metadata_input to have shape (6,) but got array with shape (1,)"
     ]
    }
   ],
   "source": [
    "%%time\n",
    "evaluation_online = { reco_name: eval_loop_recommender(Recommender, online_batch_size=1) for (reco_name, Recommender) in recommender_dict.items() }"
   ]
  },
  {
   "cell_type": "code",
   "execution_count": 7,
   "metadata": {},
   "outputs": [
    {
     "name": "stdout",
     "output_type": "stream",
     "text": [
      "CPU times: user 8min 49s, sys: 23.8 s, total: 9min 13s\n",
      "Wall time: 14min 8s\n"
     ]
    }
   ],
   "source": [
    "%%time\n",
    "evaluation_online = { reco_name: eval_loop_recommender(Recommender, online_batch_size=100) for (reco_name, Recommender) in recommender_dict.items() }\n"
   ]
  },
  {
   "cell_type": "code",
   "execution_count": null,
   "metadata": {},
   "outputs": [],
   "source": []
  }
 ],
 "metadata": {
  "kernelspec": {
   "display_name": "Python 3",
   "language": "python",
   "name": "python3"
  },
  "language_info": {
   "codemirror_mode": {
    "name": "ipython",
    "version": 3
   },
   "file_extension": ".py",
   "mimetype": "text/x-python",
   "name": "python",
   "nbconvert_exporter": "python",
   "pygments_lexer": "ipython3",
   "version": "3.6.8"
  }
 },
 "nbformat": 4,
 "nbformat_minor": 2
}
