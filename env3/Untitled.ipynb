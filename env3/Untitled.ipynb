{
 "cells": [
  {
   "cell_type": "code",
   "execution_count": 7,
   "metadata": {},
   "outputs": [],
   "source": [
    "import sys\n",
    "import numpy as np\n",
    "import pandas as pd\n",
    "import requests\n",
    "\n",
    "def get_input(user_id):\n",
    "    adress = 'http://35.180.178.243'\n",
    "\n",
    "    req = requests.get(adress + '/reset?user_id=' + user_id)\n",
    "\n",
    "    data = req.json()\n",
    "\n",
    "    nb_users = data.pop('nb_users')\n",
    "    nb_items = data.pop('nb_items')\n",
    "    next_state = data.pop('next_state')\n",
    "    columns = ['state_history', 'action_history', 'rewards_history']\n",
    "    data_array = np.array([data.pop(c) for c in columns])\n",
    "    df =  pd.DataFrame(data_array.T, columns=columns)\n",
    "    return nb_users, nb_items, next_state, data_array"
   ]
  },
  {
   "cell_type": "code",
   "execution_count": 8,
   "metadata": {},
   "outputs": [],
   "source": [
    "ID = 'VI2X71V0287S9F9B7SCU'"
   ]
  },
  {
   "cell_type": "code",
   "execution_count": 9,
   "metadata": {},
   "outputs": [
    {
     "name": "stdout",
     "output_type": "stream",
     "text": [
      "Distribution du taux de bonnes recommandations sur 10 resets : [28.5, 29.0, 28.5, 27.0, 29.0, 29.5, 25.0, 23.5, 34.0, 30.0]\n",
      "Taux moyen : 28.4\n",
      "Ecart type : 2.7092434368288134\n"
     ]
    }
   ],
   "source": [
    "k = 10\n",
    "t = []\n",
    "for i in range(k):\n",
    "    _, _, _ , data = get_input(ID)\n",
    "    _, _, reward_history = data\n",
    "    nb_reco = len(reward_history)\n",
    "    good_reco = reward_history > 0\n",
    "    nb_good_reco = np.sum(good_reco)\n",
    "    t.append(100*nb_good_reco/nb_reco)\n",
    "\n",
    "print('Distribution du taux de bonnes recommandations sur {} resets :'.format(k), t)\n",
    "print('Taux moyen :', np.mean(t))\n",
    "print('Ecart type :', np.std(t))"
   ]
  },
  {
   "cell_type": "code",
   "execution_count": 10,
   "metadata": {},
   "outputs": [
    {
     "name": "stdout",
     "output_type": "stream",
     "text": [
      "Nombre d'utilisateurs : 100\n",
      "Nombre d'items : 30\n",
      "Nombre de recommandations : 200\n",
      "Nombre de bonnes recommandations : 47\n",
      "Nombre de mauvaises recommandations : 153\n",
      "Taux de bonnes recommandations : 76.5%\n"
     ]
    }
   ],
   "source": [
    "nb_users, nb_items, next_state , data = get_input(ID)\n",
    "\n",
    "state_history, action_history, reward_history = data\n",
    "columns_names = ['user_id', 'item_id', 'item_price'] + ['metadata_' + str(i) for i in range(5)]\n",
    "dfs = [pd.DataFrame(state_history[i], columns=columns_names) for i in range(len(state_history))]\n",
    "df = pd.DataFrame(state_history[0], columns=columns_names)\n",
    "df['hist_line'] = 0\n",
    "df['action_item_id'] = state_history[0][action_history[0]][1] \n",
    "for i in range(1, len(state_history)):\n",
    "    df_temp = pd.DataFrame(state_history[i], columns=columns_names)\n",
    "    df_temp['hist_line'] = i\n",
    "    df_temp['action_item_id'] = state_history[i][action_history[i]][1] \n",
    "    df = df.append(df_temp, ignore_index=True)\n",
    "\n",
    "df_next_state = pd.DataFrame(next_state, columns=columns_names)\n",
    "user_df = pd.DataFrame(np.arange(nb_users), columns=['user_id']).set_index('user_id')\n",
    "item_df = pd.DataFrame(np.arange(nb_items), columns=['item_id']).set_index('item_id')\n",
    "df.head()\n",
    "\n",
    "print('Nombre d\\'utilisateurs :', nb_users)\n",
    "print('Nombre d\\'items :', nb_items)\n",
    "\n",
    "nb_reco = len(reward_history)\n",
    "good_reco = reward_history > 0\n",
    "nb_good_reco = np.sum(good_reco)\n",
    "nb_bad_reco = nb_reco - nb_good_reco\n",
    "print('Nombre de recommandations :', nb_reco)\n",
    "print('Nombre de bonnes recommandations :', nb_good_reco)\n",
    "print('Nombre de mauvaises recommandations :', nb_bad_reco)\n",
    "print('Taux de bonnes recommandations : {}%'.format(100*nb_bad_reco/nb_reco))"
   ]
  },
  {
   "cell_type": "markdown",
   "metadata": {},
   "source": [
    "## Utilisateurs/items non présents dans l'historique"
   ]
  },
  {
   "cell_type": "code",
   "execution_count": 11,
   "metadata": {},
   "outputs": [
    {
     "name": "stdout",
     "output_type": "stream",
     "text": [
      "Nombre d'utilisateurs non présents 11\n",
      "Nombre d'items non présents 0\n"
     ]
    }
   ],
   "source": [
    "print('Nombre d\\'utilisateurs non présents', nb_users-df['user_id'].nunique())\n",
    "print('Nombre d\\'items non présents', nb_items-df['item_id'].nunique())"
   ]
  },
  {
   "cell_type": "markdown",
   "metadata": {},
   "source": [
    "## Metadonnées utilisateur"
   ]
  },
  {
   "cell_type": "code",
   "execution_count": 12,
   "metadata": {},
   "outputs": [
    {
     "name": "stdout",
     "output_type": "stream",
     "text": [
      "Metadata 0 :  True\n",
      "Metadata 1 :  True\n",
      "Metadata 2 :  False\n",
      "Metadata 3 :  False\n",
      "Metadata 4 :  False\n"
     ]
    }
   ],
   "source": [
    "for i in range(5):\n",
    "    print('Metadata', i, ': ', (df.groupby('user_id')['metadata_' + str(i)].nunique() > 1).sum() == 0)"
   ]
  },
  {
   "cell_type": "markdown",
   "metadata": {},
   "source": [
    "Les metadonnées 0 et 1 sont des métadonnées utilisateurs (d'après l'historique)"
   ]
  },
  {
   "cell_type": "markdown",
   "metadata": {},
   "source": [
    "## Metadonnées produits"
   ]
  },
  {
   "cell_type": "code",
   "execution_count": 13,
   "metadata": {},
   "outputs": [
    {
     "name": "stdout",
     "output_type": "stream",
     "text": [
      "Metadata 0 :  False\n",
      "Metadata 1 :  False\n",
      "Metadata 2 :  True\n",
      "Metadata 3 :  True\n",
      "Metadata 4 :  False\n"
     ]
    }
   ],
   "source": [
    "for i in range(5):\n",
    "    print('Metadata', i, ': ', (df.groupby('item_id')['metadata_' + str(i)].nunique() > 1).sum() == 0)"
   ]
  },
  {
   "cell_type": "markdown",
   "metadata": {},
   "source": [
    "Les metadonnées 2 et 3 sont des métadonnées utilisateurs (d'après l'historique)"
   ]
  },
  {
   "cell_type": "markdown",
   "metadata": {},
   "source": [
    "## Nombre de commandes par utilisateurs"
   ]
  },
  {
   "cell_type": "code",
   "execution_count": 14,
   "metadata": {},
   "outputs": [
    {
     "name": "stdout",
     "output_type": "stream",
     "text": [
      "Nombre de commande par utilisateur minimum : 30\n",
      "Nombre de commande par utilisateur maximum : 146\n"
     ]
    }
   ],
   "source": [
    "print('Nombre de commande par utilisateur minimum :', df.groupby('user_id')[['hist_line']].count().min()[0]) # 0 si on compte les absents\n",
    "print('Nombre de commande par utilisateur maximum :', df.groupby('user_id')[['hist_line']].count().max()[0])"
   ]
  },
  {
   "cell_type": "markdown",
   "metadata": {},
   "source": [
    "## Diversité des achats (quantitative)"
   ]
  },
  {
   "cell_type": "code",
   "execution_count": 18,
   "metadata": {},
   "outputs": [],
   "source": [
    "bought_hist_idx = np.arange(len(state_history))[reward_history > 0]\n",
    "df_bought = df[df.hist_line.isin(bought_hist_idx)]\n",
    "df_bought = df_bought[df_bought.action_item_id == df_bought.item_id]\n",
    "diversity = df_bought.groupby('user_id')[['item_id']].nunique()\n",
    "number = df_bought.groupby('user_id')[['item_id']].nunique()"
   ]
  },
  {
   "cell_type": "code",
   "execution_count": 16,
   "metadata": {},
   "outputs": [
    {
     "name": "stdout",
     "output_type": "stream",
     "text": [
      "Nombre d'articles par utilisateur minimum : 30\n"
     ]
    }
   ],
   "source": [
    "print('Nombre d\\'articles par utilisateur minimum :', df.groupby('user_id')[['item_id']].nunique().min()[0]) # 0 si on compte les absents"
   ]
  },
  {
   "cell_type": "markdown",
   "metadata": {},
   "source": [
    "## Rapport au prix"
   ]
  },
  {
   "cell_type": "code",
   "execution_count": 17,
   "metadata": {},
   "outputs": [
    {
     "name": "stdout",
     "output_type": "stream",
     "text": [
      "Minimum de la dépense moyenne : 534.8587209026474\n",
      "Maximum de la dépense moyenne : 559.3530752679507\n",
      "Minimum de l'ecart type : 309.2160780474297\n",
      "Maximum de l'ecart type : 319.8959855904223\n"
     ]
    }
   ],
   "source": [
    "#df[['user_id', 'item_price', 'metadata_2', 'metadata_3', 'metadata_4']].groupby('user_id').describe()\n",
    "print('Minimum de la dépense moyenne :', df[['user_id', 'item_price']].groupby('user_id').mean().min()[0])\n",
    "print('Maximum de la dépense moyenne :', df[['user_id', 'item_price']].groupby('user_id').mean().max()[0])\n",
    "print('Minimum de l\\'ecart type :', df[['user_id', 'item_price']].groupby('user_id').std().min()[0])\n",
    "print('Maximum de l\\'ecart type :', df[['user_id', 'item_price']].groupby('user_id').std().max()[0])\n"
   ]
  },
  {
   "cell_type": "markdown",
   "metadata": {},
   "source": [
    "## Apparition de nouveaux utilisateurs ?"
   ]
  },
  {
   "cell_type": "code",
   "execution_count": null,
   "metadata": {},
   "outputs": [],
   "source": [
    "def send_pred(user_id, pred):\n",
    "    adress = 'http://35.180.178.243'\n",
    "    req = requests.get(adress + '/predict?user_id=' + user_id + '&recommended_item=' + str(pred))\n",
    "\n",
    "    data = req.json()\n",
    "    reward = data.pop('reward')\n",
    "    state = data.pop('state')\n",
    "    return reward, state"
   ]
  },
  {
   "cell_type": "code",
   "execution_count": null,
   "metadata": {},
   "outputs": [],
   "source": []
  },
  {
   "cell_type": "code",
   "execution_count": null,
   "metadata": {},
   "outputs": [],
   "source": []
  },
  {
   "cell_type": "code",
   "execution_count": null,
   "metadata": {},
   "outputs": [],
   "source": []
  },
  {
   "cell_type": "code",
   "execution_count": null,
   "metadata": {},
   "outputs": [],
   "source": []
  },
  {
   "cell_type": "code",
   "execution_count": null,
   "metadata": {},
   "outputs": [],
   "source": []
  }
 ],
 "metadata": {
  "kernelspec": {
   "display_name": "Python 3",
   "language": "python",
   "name": "python3"
  },
  "language_info": {
   "codemirror_mode": {
    "name": "ipython",
    "version": 3
   },
   "file_extension": ".py",
   "mimetype": "text/x-python",
   "name": "python",
   "nbconvert_exporter": "python",
   "pygments_lexer": "ipython3",
   "version": "3.6.8"
  }
 },
 "nbformat": 4,
 "nbformat_minor": 2
}
