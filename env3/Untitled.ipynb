{
 "cells": [
  {
   "cell_type": "code",
   "execution_count": 54,
   "metadata": {},
   "outputs": [],
   "source": [
    "import sys\n",
    "import numpy as np\n",
    "import pandas as pd\n",
    "import requests\n",
    "\n",
    "def get_input(user_id):\n",
    "    adress = 'http://35.180.178.243'\n",
    "\n",
    "    req = requests.get(adress + '/reset?user_id=' + user_id)\n",
    "\n",
    "    data = req.json()\n",
    "\n",
    "    nb_users = data.pop('nb_users')\n",
    "    nb_items = data.pop('nb_items')\n",
    "    next_state = data.pop('next_state')\n",
    "    columns = ['state_history', 'action_history', 'rewards_history']\n",
    "    data_array = np.array([data.pop(c) for c in columns])\n",
    "    df =  pd.DataFrame(data_array.T, columns=columns)\n",
    "    return nb_users, nb_items, next_state, data_array"
   ]
  },
  {
   "cell_type": "code",
   "execution_count": 55,
   "metadata": {},
   "outputs": [],
   "source": [
    "ID = 'VI2X71V0287S9F9B7SCU'"
   ]
  },
  {
   "cell_type": "code",
   "execution_count": 78,
   "metadata": {},
   "outputs": [],
   "source": [
    "nb_users, nb_items, next_state , data = get_input(ID)"
   ]
  },
  {
   "cell_type": "code",
   "execution_count": 119,
   "metadata": {},
   "outputs": [],
   "source": [
    "state_history, action_history, reward_history = data\n",
    "columns_names = ['user_id', 'item_id', 'item_price'] + ['metadata_' + str(i) for i in range(5)]\n",
    "dfs = [pd.DataFrame(state_history[i], columns=columns_names) for i in range(len(state_history))]\n",
    "df = pd.DataFrame(state_history[0], columns=columns_names)\n",
    "df['hist_line'] = 0\n",
    "for i in range(1, len(state_history)):\n",
    "    df_temp = pd.DataFrame(state_history[i], columns=columns_names)\n",
    "    df_temp['hist_line'] = i\n",
    "    df = df.append(df_temp, ignore_index=True)\n",
    "    \n",
    "df_next_state = pd.DataFrame(next_state, columns=columns_names)"
   ]
  },
  {
   "cell_type": "code",
   "execution_count": 85,
   "metadata": {},
   "outputs": [
    {
     "name": "stdout",
     "output_type": "stream",
     "text": [
      "Nombre d'utilisateurs : 100\n",
      "Nombre d'items : 30\n"
     ]
    }
   ],
   "source": [
    "print('Nombre d\\'utilisateurs :', nb_users)\n",
    "print('Nombre d\\'items :', nb_items)"
   ]
  },
  {
   "cell_type": "markdown",
   "metadata": {},
   "source": [
    "## Utilisateurs/items non présents dans l'historique"
   ]
  },
  {
   "cell_type": "code",
   "execution_count": 107,
   "metadata": {},
   "outputs": [
    {
     "name": "stdout",
     "output_type": "stream",
     "text": [
      "Nombre d'utilisateurs non présents 17\n",
      "Nombre d'items non présents 0\n"
     ]
    }
   ],
   "source": [
    "print('Nombre d\\'utilisateurs non présents', nb_users-df['user_id'].nunique())\n",
    "print('Nombre d\\'items non présents', nb_items-df['item_id'].nunique())"
   ]
  },
  {
   "cell_type": "markdown",
   "metadata": {},
   "source": [
    "## Metadonnées utilisateur"
   ]
  },
  {
   "cell_type": "code",
   "execution_count": 108,
   "metadata": {},
   "outputs": [
    {
     "name": "stdout",
     "output_type": "stream",
     "text": [
      "Metadata 0 :  True\n",
      "Metadata 1 :  True\n",
      "Metadata 2 :  False\n",
      "Metadata 3 :  False\n",
      "Metadata 4 :  False\n"
     ]
    }
   ],
   "source": [
    "for i in range(5):\n",
    "    print('Metadata', i, ': ', (df.groupby('user_id')['metadata_' + str(i)].nunique() > 1).sum() == 0)"
   ]
  },
  {
   "cell_type": "markdown",
   "metadata": {},
   "source": [
    "Les metadonnées 0 et 1 sont des métadonnées utilisateurs (d'après l'historique)"
   ]
  },
  {
   "cell_type": "markdown",
   "metadata": {},
   "source": [
    "## Metadonnées produits"
   ]
  },
  {
   "cell_type": "code",
   "execution_count": 109,
   "metadata": {},
   "outputs": [
    {
     "name": "stdout",
     "output_type": "stream",
     "text": [
      "Metadata 0 :  False\n",
      "Metadata 1 :  False\n",
      "Metadata 2 :  True\n",
      "Metadata 3 :  True\n",
      "Metadata 4 :  False\n"
     ]
    }
   ],
   "source": [
    "for i in range(5):\n",
    "    print('Metadata', i, ': ', (df.groupby('item_id')['metadata_' + str(i)].nunique() > 1).sum() == 0)"
   ]
  },
  {
   "cell_type": "markdown",
   "metadata": {},
   "source": [
    "Les metadonnées 2 et 3 sont des métadonnées utilisateurs (d'après l'historique)"
   ]
  },
  {
   "cell_type": "markdown",
   "metadata": {},
   "source": [
    "## Nombre de commandes par utilisateurs"
   ]
  },
  {
   "cell_type": "code",
   "execution_count": 114,
   "metadata": {},
   "outputs": [
    {
     "name": "stdout",
     "output_type": "stream",
     "text": [
      "Nombre de commande par utilisateur minimum : 30\n",
      "Nombre de commande par utilisateur maximum : 177\n"
     ]
    }
   ],
   "source": [
    "print('Nombre de commande par utilisateur minimum :', df.groupby('user_id')[['hist_line']].count().min()[0]) # 0 si on compte les absents\n",
    "print('Nombre de commande par utilisateur maximum :', df.groupby('user_id')[['hist_line']].count().max()[0])"
   ]
  },
  {
   "cell_type": "markdown",
   "metadata": {},
   "source": [
    "## Diversité des achats (quantitative)"
   ]
  },
  {
   "cell_type": "code",
   "execution_count": 118,
   "metadata": {},
   "outputs": [
    {
     "name": "stdout",
     "output_type": "stream",
     "text": [
      "Nombre d'articles par utilisateur minimum :          item_id\n",
      "user_id         \n",
      "0             30\n",
      "1             30\n",
      "2             30\n",
      "3             30\n",
      "4             30\n",
      "6             30\n",
      "7             30\n",
      "8             30\n",
      "9             30\n",
      "12            30\n",
      "13            30\n",
      "15            30\n",
      "16            30\n",
      "17            30\n",
      "18            30\n",
      "20            30\n",
      "21            30\n",
      "22            30\n",
      "23            30\n",
      "24            30\n",
      "25            30\n",
      "26            30\n",
      "28            30\n",
      "29            30\n",
      "31            30\n",
      "33            30\n",
      "35            30\n",
      "36            30\n",
      "37            30\n",
      "38            30\n",
      "...          ...\n",
      "67            30\n",
      "68            30\n",
      "69            30\n",
      "71            30\n",
      "72            30\n",
      "73            30\n",
      "74            30\n",
      "75            30\n",
      "76            30\n",
      "77            30\n",
      "78            30\n",
      "79            30\n",
      "80            30\n",
      "82            30\n",
      "83            30\n",
      "84            30\n",
      "85            30\n",
      "86            30\n",
      "87            30\n",
      "88            30\n",
      "89            30\n",
      "90            30\n",
      "91            30\n",
      "92            30\n",
      "93            30\n",
      "94            30\n",
      "95            30\n",
      "97            30\n",
      "98            30\n",
      "99            30\n",
      "\n",
      "[83 rows x 1 columns]\n"
     ]
    }
   ],
   "source": [
    "print('Nombre d\\'articles par utilisateur minimum :', df.groupby('user_id')[['item_id']].nunique().min()[0]) # 0 si on compte les absents"
   ]
  },
  {
   "cell_type": "markdown",
   "metadata": {},
   "source": [
    "## Rapport au prix"
   ]
  },
  {
   "cell_type": "code",
   "execution_count": 83,
   "metadata": {},
   "outputs": [
    {
     "name": "stdout",
     "output_type": "stream",
     "text": [
      "Minimum de la dépense moyenne : 487.4109794268577\n",
      "Maximum de la dépense moyenne : 505.01067632104525\n",
      "Minimum de l'ecart type : 282.1257686423793\n",
      "Maximum de l'ecart type : 288.7819723945066\n"
     ]
    }
   ],
   "source": [
    "#df[['user_id', 'item_price', 'metadata_2', 'metadata_3', 'metadata_4']].groupby('user_id').describe()\n",
    "print('Minimum de la dépense moyenne :', df[['user_id', 'item_price']].groupby('user_id').mean().min()[0])\n",
    "print('Maximum de la dépense moyenne :', df[['user_id', 'item_price']].groupby('user_id').mean().max()[0])\n",
    "print('Minimum de l\\'ecart type :', df[['user_id', 'item_price']].groupby('user_id').std().min()[0])\n",
    "print('Maximum de l\\'ecart type :', df[['user_id', 'item_price']].groupby('user_id').std().max()[0])\n"
   ]
  },
  {
   "cell_type": "markdown",
   "metadata": {},
   "source": [
    "## Apparition de nouveaux utilisateurs ?"
   ]
  },
  {
   "cell_type": "code",
   "execution_count": 86,
   "metadata": {},
   "outputs": [],
   "source": [
    "def send_pred(user_id, pred):\n",
    "    adress = 'http://35.180.178.243'\n",
    "    req = requests.get(adress + '/predict?user_id=' + user_id + '&recommended_item=' + str(pred))\n",
    "\n",
    "    data = req.json()\n",
    "    reward = data.pop('reward')\n",
    "    state = data.pop('state')\n",
    "    return reward, state"
   ]
  },
  {
   "cell_type": "code",
   "execution_count": null,
   "metadata": {},
   "outputs": [],
   "source": [
    "no_new_user = True\n",
    "while no_new_user:\n",
    "    reward, state = send_pred(ID, 0)\n",
    "    user_id = state[0][0]\n",
    "    no_new_user = "
   ]
  },
  {
   "cell_type": "code",
   "execution_count": 102,
   "metadata": {},
   "outputs": [
    {
     "data": {
      "text/plain": [
       "83"
      ]
     },
     "execution_count": 102,
     "metadata": {},
     "output_type": "execute_result"
    }
   ],
   "source": []
  },
  {
   "cell_type": "code",
   "execution_count": null,
   "metadata": {},
   "outputs": [],
   "source": []
  },
  {
   "cell_type": "code",
   "execution_count": null,
   "metadata": {},
   "outputs": [],
   "source": []
  },
  {
   "cell_type": "code",
   "execution_count": null,
   "metadata": {},
   "outputs": [],
   "source": []
  }
 ],
 "metadata": {
  "kernelspec": {
   "display_name": "Python 3",
   "language": "python",
   "name": "python3"
  },
  "language_info": {
   "codemirror_mode": {
    "name": "ipython",
    "version": 3
   },
   "file_extension": ".py",
   "mimetype": "text/x-python",
   "name": "python",
   "nbconvert_exporter": "python",
   "pygments_lexer": "ipython3",
   "version": "3.6.8"
  }
 },
 "nbformat": 4,
 "nbformat_minor": 2
}
