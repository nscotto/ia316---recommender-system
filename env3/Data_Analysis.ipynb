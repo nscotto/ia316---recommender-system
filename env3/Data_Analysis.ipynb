{
 "cells": [
  {
   "cell_type": "code",
   "execution_count": 1,
   "metadata": {},
   "outputs": [],
   "source": [
    "import sys\n",
    "import numpy as np\n",
    "import pandas as pd\n",
    "import requests\n",
    "\n",
    "def get_input(user_id):\n",
    "    adress = 'http://35.180.178.243'\n",
    "\n",
    "    req = requests.get(adress + '/reset?user_id=' + user_id)\n",
    "\n",
    "    data = req.json()\n",
    "\n",
    "    nb_users = data.pop('nb_users')\n",
    "    nb_items = data.pop('nb_items')\n",
    "    next_state = data.pop('next_state')\n",
    "    columns = ['state_history', 'action_history', 'rewards_history']\n",
    "    data_array = np.array([data.pop(c) for c in columns])\n",
    "    df =  pd.DataFrame(data_array.T, columns=columns)\n",
    "    return nb_users, nb_items, next_state, data_array"
   ]
  },
  {
   "cell_type": "code",
   "execution_count": 2,
   "metadata": {},
   "outputs": [],
   "source": [
    "ID = 'VI2X71V0287S9F9B7SCU'"
   ]
  },
  {
   "cell_type": "code",
   "execution_count": 3,
   "metadata": {},
   "outputs": [
    {
     "name": "stdout",
     "output_type": "stream",
     "text": [
      "Distribution du taux de bonnes recommandations sur 10 resets : [30.5, 29.5, 31.0, 29.5, 32.0, 27.5, 25.0, 27.5, 29.0, 34.5]\n",
      "Taux moyen : 29.6\n",
      "Ecart type : 2.507987240796891\n"
     ]
    }
   ],
   "source": [
    "k = 10\n",
    "t = []\n",
    "for i in range(k):\n",
    "    _, _, _ , data = get_input(ID)\n",
    "    _, _, reward_history = data\n",
    "    nb_reco = len(reward_history)\n",
    "    good_reco = reward_history > 0\n",
    "    nb_good_reco = np.sum(good_reco)\n",
    "    t.append(100*nb_good_reco/nb_reco)\n",
    "\n",
    "print('Distribution du taux de bonnes recommandations sur {} resets :'.format(k), t)\n",
    "print('Taux moyen :', np.mean(t))\n",
    "print('Ecart type :', np.std(t))"
   ]
  },
  {
   "cell_type": "code",
   "execution_count": 4,
   "metadata": {},
   "outputs": [
    {
     "name": "stdout",
     "output_type": "stream",
     "text": [
      "Nombre d'utilisateurs : 100\n",
      "Nombre d'items : 30\n",
      "Nombre de recommandations : 200\n",
      "Nombre de bonnes recommandations : 65\n",
      "Nombre de mauvaises recommandations : 135\n",
      "Taux de bonnes recommandations : 67.5%\n"
     ]
    }
   ],
   "source": [
    "nb_users, nb_items, next_state , data = get_input(ID)\n",
    "\n",
    "state_history, action_history, reward_history = data\n",
    "columns_names = ['user_id', 'item_id', 'item_price'] + ['metadata_' + str(i) for i in range(5)]\n",
    "dfs = [pd.DataFrame(state_history[i], columns=columns_names) for i in range(len(state_history))]\n",
    "df = pd.DataFrame(state_history[0], columns=columns_names)\n",
    "df['hist_line'] = 0\n",
    "df['action_item_id'] = state_history[0][action_history[0]][1] \n",
    "df['reward'] = reward_history[0]\n",
    "for i in range(1, len(state_history)):\n",
    "    df_temp = pd.DataFrame(state_history[i], columns=columns_names)\n",
    "    df_temp['hist_line'] = i\n",
    "    df_temp['action_item_id'] = state_history[i][action_history[i]][1] \n",
    "    df_temp['reward'] = reward_history[i]\n",
    "    df = df.append(df_temp, ignore_index=True)\n",
    "\n",
    "df_next_state = pd.DataFrame(next_state, columns=columns_names)\n",
    "user_df = pd.DataFrame(np.arange(nb_users), columns=['user_id']).set_index('user_id')\n",
    "item_df = pd.DataFrame(np.arange(nb_items), columns=['item_id']).set_index('item_id')\n",
    "df.head()\n",
    "\n",
    "print('Nombre d\\'utilisateurs :', nb_users)\n",
    "print('Nombre d\\'items :', nb_items)\n",
    "\n",
    "nb_reco = len(reward_history)\n",
    "good_reco = reward_history > 0\n",
    "nb_good_reco = np.sum(good_reco)\n",
    "nb_bad_reco = nb_reco - nb_good_reco\n",
    "print('Nombre de recommandations :', nb_reco)\n",
    "print('Nombre de bonnes recommandations :', nb_good_reco)\n",
    "print('Nombre de mauvaises recommandations :', nb_bad_reco)\n",
    "print('Taux de bonnes recommandations : {}%'.format(100*nb_bad_reco/nb_reco))"
   ]
  },
  {
   "cell_type": "markdown",
   "metadata": {},
   "source": [
    "## Utilisateurs/items non présents dans l'historique"
   ]
  },
  {
   "cell_type": "code",
   "execution_count": 5,
   "metadata": {},
   "outputs": [
    {
     "name": "stdout",
     "output_type": "stream",
     "text": [
      "Nombre d'utilisateurs non présents 12\n",
      "Nombre d'items non présents 0\n"
     ]
    }
   ],
   "source": [
    "print('Nombre d\\'utilisateurs non présents', nb_users-df['user_id'].nunique())\n",
    "print('Nombre d\\'items non présents', nb_items-df['item_id'].nunique())"
   ]
  },
  {
   "cell_type": "markdown",
   "metadata": {},
   "source": [
    "## Metadonnées utilisateur"
   ]
  },
  {
   "cell_type": "code",
   "execution_count": 6,
   "metadata": {},
   "outputs": [
    {
     "name": "stdout",
     "output_type": "stream",
     "text": [
      "Metadata 0 :  True\n",
      "Metadata 1 :  True\n",
      "Metadata 2 :  False\n",
      "Metadata 3 :  False\n",
      "Metadata 4 :  False\n"
     ]
    }
   ],
   "source": [
    "for i in range(5):\n",
    "    print('Metadata', i, ': ', (df.groupby('user_id')['metadata_' + str(i)].nunique() > 1).sum() == 0)"
   ]
  },
  {
   "cell_type": "markdown",
   "metadata": {},
   "source": [
    "Les metadonnées 0 et 1 sont des métadonnées utilisateurs (d'après l'historique)"
   ]
  },
  {
   "cell_type": "markdown",
   "metadata": {},
   "source": [
    "## Metadonnées produits"
   ]
  },
  {
   "cell_type": "code",
   "execution_count": 7,
   "metadata": {},
   "outputs": [
    {
     "name": "stdout",
     "output_type": "stream",
     "text": [
      "Metadata 0 :  False\n",
      "Metadata 1 :  False\n",
      "Metadata 2 :  True\n",
      "Metadata 3 :  True\n",
      "Metadata 4 :  False\n"
     ]
    }
   ],
   "source": [
    "for i in range(5):\n",
    "    print('Metadata', i, ': ', (df.groupby('item_id')['metadata_' + str(i)].nunique() > 1).sum() == 0)"
   ]
  },
  {
   "cell_type": "markdown",
   "metadata": {},
   "source": [
    "Les metadonnées 2 et 3 sont des métadonnées utilisateurs (d'après l'historique)"
   ]
  },
  {
   "cell_type": "markdown",
   "metadata": {},
   "source": [
    "## Nombre de commandes par utilisateurs"
   ]
  },
  {
   "cell_type": "code",
   "execution_count": 8,
   "metadata": {},
   "outputs": [
    {
     "name": "stdout",
     "output_type": "stream",
     "text": [
      "Nombre de commande par utilisateur minimum : 30\n",
      "Nombre de commande par utilisateur maximum : 150\n"
     ]
    }
   ],
   "source": [
    "print('Nombre de commande par utilisateur minimum :', df.groupby('user_id')[['hist_line']].count().min()[0]) # 0 si on compte les absents\n",
    "print('Nombre de commande par utilisateur maximum :', df.groupby('user_id')[['hist_line']].count().max()[0])"
   ]
  },
  {
   "cell_type": "markdown",
   "metadata": {},
   "source": [
    "## Diversité des achats (quantitative)"
   ]
  },
  {
   "cell_type": "code",
   "execution_count": 9,
   "metadata": {},
   "outputs": [],
   "source": [
    "bought_hist_idx = np.arange(len(state_history))[reward_history > 0]\n",
    "df_bought = df[df.hist_line.isin(bought_hist_idx)]\n",
    "df_bought = df_bought[df_bought.action_item_id == df_bought.item_id]\n",
    "diversity = df_bought.groupby('user_id')[['item_id']].nunique()\n",
    "number = df_bought.groupby('user_id')[['item_id']].nunique()"
   ]
  },
  {
   "cell_type": "code",
   "execution_count": 10,
   "metadata": {},
   "outputs": [
    {
     "name": "stdout",
     "output_type": "stream",
     "text": [
      "Nombre d'articles par utilisateur minimum : 30\n"
     ]
    }
   ],
   "source": [
    "print('Nombre d\\'articles par utilisateur minimum :', df.groupby('user_id')[['item_id']].nunique().min()[0]) # 0 si on compte les absents"
   ]
  },
  {
   "cell_type": "markdown",
   "metadata": {},
   "source": [
    "## Rapport au prix"
   ]
  },
  {
   "cell_type": "code",
   "execution_count": 11,
   "metadata": {},
   "outputs": [
    {
     "name": "stdout",
     "output_type": "stream",
     "text": [
      "Minimum de la dépense moyenne : 473.30037747243875\n",
      "Maximum de la dépense moyenne : 491.6626051383017\n",
      "Minimum de l'ecart type : 277.96226475200683\n",
      "Maximum de l'ecart type : 287.4167688690529\n"
     ]
    }
   ],
   "source": [
    "#df[['user_id', 'item_price', 'metadata_2', 'metadata_3', 'metadata_4']].groupby('user_id').describe()\n",
    "print('Minimum de la dépense moyenne :', df[['user_id', 'item_price']].groupby('user_id').mean().min()[0])\n",
    "print('Maximum de la dépense moyenne :', df[['user_id', 'item_price']].groupby('user_id').mean().max()[0])\n",
    "print('Minimum de l\\'ecart type :', df[['user_id', 'item_price']].groupby('user_id').std().min()[0])\n",
    "print('Maximum de l\\'ecart type :', df[['user_id', 'item_price']].groupby('user_id').std().max()[0])\n"
   ]
  },
  {
   "cell_type": "markdown",
   "metadata": {},
   "source": [
    "## Apparition de nouveaux utilisateurs ?"
   ]
  },
  {
   "cell_type": "code",
   "execution_count": 12,
   "metadata": {},
   "outputs": [],
   "source": [
    "def send_pred(user_id, pred):\n",
    "    adress = 'http://35.180.178.243'\n",
    "    req = requests.get(adress + '/predict?user_id=' + user_id + '&recommended_item=' + str(pred))\n",
    "\n",
    "    data = req.json()\n",
    "    reward = data.pop('reward')\n",
    "    state = data.pop('state')\n",
    "    return reward, state"
   ]
  },
  {
   "cell_type": "code",
   "execution_count": 25,
   "metadata": {},
   "outputs": [],
   "source": [
    "user_df = df.drop_duplicates(subset=['user_id']).sort_values('user_id')[['user_id', 'metadata_0', 'metadata_1']]"
   ]
  },
  {
   "cell_type": "code",
   "execution_count": 46,
   "metadata": {},
   "outputs": [],
   "source": [
    "from numpy import linalg\n",
    "\n",
    "norm = linalg.norm(user_df.values, axis = 1)\n",
    "user_df['metadata_0_normed'] = user_df.metadata_0.values / norm\n",
    "user_df['metadata_1_normed'] = user_df.metadata_1.values / norm"
   ]
  },
  {
   "cell_type": "code",
   "execution_count": 47,
   "metadata": {},
   "outputs": [],
   "source": [
    "user_metadata = user_df[['metadata_0_normed', 'metadata_1_normed']].values"
   ]
  },
  {
   "cell_type": "code",
   "execution_count": 52,
   "metadata": {},
   "outputs": [],
   "source": [
    "user_idx = 6\n",
    "sim = user_metadata.dot(user_metadata[user_idx])\n",
    "sim[user_idx] = -1"
   ]
  },
  {
   "cell_type": "code",
   "execution_count": 53,
   "metadata": {},
   "outputs": [],
   "source": [
    "similar_to_user = np.argmax(sim)"
   ]
  },
  {
   "cell_type": "code",
   "execution_count": 54,
   "metadata": {},
   "outputs": [
    {
     "data": {
      "text/plain": [
       "1"
      ]
     },
     "execution_count": 54,
     "metadata": {},
     "output_type": "execute_result"
    }
   ],
   "source": [
    "user_df.user_id.iloc[similar_to_user]"
   ]
  },
  {
   "cell_type": "code",
   "execution_count": 55,
   "metadata": {},
   "outputs": [
    {
     "data": {
      "text/plain": [
       "array([ 4.20278913e-02,  1.92176319e-01, -6.36937971e-02,  1.50494165e-02,\n",
       "        1.56629768e-03,  4.99044681e-02, -1.00000000e+00,  2.84569842e-02,\n",
       "        2.85611422e-02,  2.73056923e-02, -6.89752618e-03, -7.39784526e-03,\n",
       "        8.18957435e-03,  6.16354262e-02,  4.75571829e-02,  3.71837723e-02,\n",
       "        9.63460116e-03,  1.85047699e-02,  2.04169505e-02,  7.38093887e-03,\n",
       "        3.63310749e-02,  1.52377964e-03,  2.98109823e-02,  1.37476555e-02,\n",
       "        1.55754413e-02,  1.95750290e-03, -1.10432244e-02,  7.59236035e-03,\n",
       "        1.01198732e-02,  1.35547370e-02,  1.06972400e-02,  1.37138863e-02,\n",
       "        7.98465629e-03,  6.74169389e-03,  1.16441991e-02,  1.36779950e-02,\n",
       "        7.68579508e-03, -1.65833166e-03,  5.39433125e-03,  1.32704673e-02,\n",
       "        1.52236731e-02,  6.40025588e-03,  7.25460334e-03,  1.10003324e-02,\n",
       "        4.75101279e-03,  1.18303937e-02,  1.02028072e-02,  1.00897799e-02,\n",
       "        7.22388241e-04,  5.10963928e-03,  7.29202554e-03,  7.34656278e-03,\n",
       "        1.62968193e-02,  4.39922951e-03,  6.26963168e-03,  3.16094128e-03,\n",
       "       -2.63864513e-03,  6.18037275e-04, -1.28358154e-03,  1.32610665e-02,\n",
       "        8.25265068e-03,  4.64947287e-03,  5.67174540e-03,  7.43972774e-04,\n",
       "        7.90338189e-03,  6.59708265e-03, -1.69282184e-03,  4.34145141e-03,\n",
       "        5.84673587e-03,  9.20821698e-03,  2.55987797e-03,  1.46748729e-02,\n",
       "        8.16172920e-03,  1.49874173e-03,  3.61380376e-03, -7.23825250e-04,\n",
       "        4.30275505e-03,  7.64992262e-03, -2.88178715e-04,  5.91523678e-03,\n",
       "        6.45685101e-03,  5.03994644e-03,  4.57403146e-03,  2.12109798e-03,\n",
       "        6.44599282e-05,  1.42970835e-05,  3.33589581e-03,  2.48536005e-03])"
      ]
     },
     "execution_count": 55,
     "metadata": {},
     "output_type": "execute_result"
    }
   ],
   "source": [
    "sim"
   ]
  },
  {
   "cell_type": "code",
   "execution_count": null,
   "metadata": {},
   "outputs": [],
   "source": []
  }
 ],
 "metadata": {
  "kernelspec": {
   "display_name": "Python 3",
   "language": "python",
   "name": "python3"
  },
  "language_info": {
   "codemirror_mode": {
    "name": "ipython",
    "version": 3
   },
   "file_extension": ".py",
   "mimetype": "text/x-python",
   "name": "python",
   "nbconvert_exporter": "python",
   "pygments_lexer": "ipython3",
   "version": "3.6.8"
  }
 },
 "nbformat": 4,
 "nbformat_minor": 2
}
