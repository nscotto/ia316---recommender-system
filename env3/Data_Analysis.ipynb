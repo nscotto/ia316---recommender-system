{
 "cells": [
  {
   "cell_type": "code",
   "execution_count": 1,
   "metadata": {},
   "outputs": [],
   "source": [
    "import sys\n",
    "import numpy as np\n",
    "import pandas as pd\n",
    "import requests\n",
    "\n",
    "def get_input(user_id):\n",
    "    adress = 'http://35.180.178.243'\n",
    "\n",
    "    req = requests.get(adress + '/reset?user_id=' + user_id)\n",
    "\n",
    "    data = req.json()\n",
    "\n",
    "    nb_users = data.pop('nb_users')\n",
    "    nb_items = data.pop('nb_items')\n",
    "    next_state = data.pop('next_state')\n",
    "    columns = ['state_history', 'action_history', 'rewards_history']\n",
    "    data_array = np.array([data.pop(c) for c in columns])\n",
    "    df =  pd.DataFrame(data_array.T, columns=columns)\n",
    "    return nb_users, nb_items, next_state, data_array"
   ]
  },
  {
   "cell_type": "code",
   "execution_count": 2,
   "metadata": {},
   "outputs": [],
   "source": [
    "ID = 'VI2X71V0287S9F9B7SCU'"
   ]
  },
  {
   "cell_type": "code",
   "execution_count": 3,
   "metadata": {},
   "outputs": [
    {
     "name": "stdout",
     "output_type": "stream",
     "text": [
      "Distribution du taux de bonnes recommandations sur 10 resets : [29.0, 32.0, 29.5, 29.0, 30.5, 28.0, 35.0, 27.5, 32.0, 33.5]\n",
      "Taux moyen : 30.6\n",
      "Ecart type : 2.33238075793812\n"
     ]
    }
   ],
   "source": [
    "k = 10\n",
    "t = []\n",
    "for i in range(k):\n",
    "    _, _, _ , data = get_input(ID)\n",
    "    _, _, reward_history = data\n",
    "    nb_reco = len(reward_history)\n",
    "    good_reco = reward_history > 0\n",
    "    nb_good_reco = np.sum(good_reco)\n",
    "    t.append(100*nb_good_reco/nb_reco)\n",
    "\n",
    "print('Distribution du taux de bonnes recommandations sur {} resets :'.format(k), t)\n",
    "print('Taux moyen :', np.mean(t))\n",
    "print('Ecart type :', np.std(t))"
   ]
  },
  {
   "cell_type": "code",
   "execution_count": 4,
   "metadata": {},
   "outputs": [
    {
     "name": "stdout",
     "output_type": "stream",
     "text": [
      "Nombre d'utilisateurs : 100\n",
      "Nombre d'items : 30\n",
      "Nombre de recommandations : 200\n",
      "Nombre de bonnes recommandations : 64\n",
      "Nombre de mauvaises recommandations : 136\n",
      "Taux de bonnes recommandations : 68.0%\n"
     ]
    }
   ],
   "source": [
    "nb_users, nb_items, next_state , data = get_input(ID)\n",
    "\n",
    "state_history, action_history, reward_history = data\n",
    "columns_names = ['user_id', 'item_id', 'item_price'] + ['metadata_' + str(i) for i in range(5)]\n",
    "dfs = [pd.DataFrame(state_history[i], columns=columns_names) for i in range(len(state_history))]\n",
    "df = pd.DataFrame(state_history[0], columns=columns_names)\n",
    "df['hist_line'] = 0\n",
    "df['action_item_id'] = state_history[0][action_history[0]][1] \n",
    "df['reward'] = reward_history[0]\n",
    "for i in range(1, len(state_history)):\n",
    "    df_temp = pd.DataFrame(state_history[i], columns=columns_names)\n",
    "    df_temp['hist_line'] = i\n",
    "    df_temp['action_item_id'] = state_history[i][action_history[i]][1] \n",
    "    df_temp['reward'] = reward_history[i]\n",
    "    df = df.append(df_temp, ignore_index=True)\n",
    "\n",
    "df_next_state = pd.DataFrame(next_state, columns=columns_names)\n",
    "user_df = pd.DataFrame(np.arange(nb_users), columns=['user_id']).set_index('user_id')\n",
    "item_df = pd.DataFrame(np.arange(nb_items), columns=['item_id']).set_index('item_id')\n",
    "df.head()\n",
    "\n",
    "print('Nombre d\\'utilisateurs :', nb_users)\n",
    "print('Nombre d\\'items :', nb_items)\n",
    "\n",
    "nb_reco = len(reward_history)\n",
    "good_reco = reward_history > 0\n",
    "nb_good_reco = np.sum(good_reco)\n",
    "nb_bad_reco = nb_reco - nb_good_reco\n",
    "print('Nombre de recommandations :', nb_reco)\n",
    "print('Nombre de bonnes recommandations :', nb_good_reco)\n",
    "print('Nombre de mauvaises recommandations :', nb_bad_reco)\n",
    "print('Taux de bonnes recommandations : {}%'.format(100*nb_bad_reco/nb_reco))"
   ]
  },
  {
   "cell_type": "markdown",
   "metadata": {},
   "source": [
    "## Utilisateurs/items non présents dans l'historique"
   ]
  },
  {
   "cell_type": "code",
   "execution_count": 5,
   "metadata": {},
   "outputs": [
    {
     "name": "stdout",
     "output_type": "stream",
     "text": [
      "Nombre d'utilisateurs non présents 14\n",
      "Nombre d'items non présents 0\n"
     ]
    }
   ],
   "source": [
    "print('Nombre d\\'utilisateurs non présents', nb_users-df['user_id'].nunique())\n",
    "print('Nombre d\\'items non présents', nb_items-df['item_id'].nunique())"
   ]
  },
  {
   "cell_type": "markdown",
   "metadata": {},
   "source": [
    "## Metadonnées utilisateur"
   ]
  },
  {
   "cell_type": "code",
   "execution_count": 6,
   "metadata": {},
   "outputs": [
    {
     "name": "stdout",
     "output_type": "stream",
     "text": [
      "Metadata 0 :  True\n",
      "Metadata 1 :  True\n",
      "Metadata 2 :  False\n",
      "Metadata 3 :  False\n",
      "Metadata 4 :  False\n"
     ]
    }
   ],
   "source": [
    "for i in range(5):\n",
    "    print('Metadata', i, ': ', (df.groupby('user_id')['metadata_' + str(i)].nunique() > 1).sum() == 0)"
   ]
  },
  {
   "cell_type": "markdown",
   "metadata": {},
   "source": [
    "Les metadonnées 0 et 1 sont des métadonnées utilisateurs (d'après l'historique)"
   ]
  },
  {
   "cell_type": "markdown",
   "metadata": {},
   "source": [
    "## Metadonnées produits"
   ]
  },
  {
   "cell_type": "code",
   "execution_count": 7,
   "metadata": {},
   "outputs": [
    {
     "name": "stdout",
     "output_type": "stream",
     "text": [
      "Metadata 0 :  False\n",
      "Metadata 1 :  False\n",
      "Metadata 2 :  True\n",
      "Metadata 3 :  True\n",
      "Metadata 4 :  False\n"
     ]
    }
   ],
   "source": [
    "for i in range(5):\n",
    "    print('Metadata', i, ': ', (df.groupby('item_id')['metadata_' + str(i)].nunique() > 1).sum() == 0)"
   ]
  },
  {
   "cell_type": "markdown",
   "metadata": {},
   "source": [
    "Les metadonnées 2 et 3 sont des métadonnées utilisateurs (d'après l'historique)"
   ]
  },
  {
   "cell_type": "markdown",
   "metadata": {},
   "source": [
    "## Nombre de commandes par utilisateurs"
   ]
  },
  {
   "cell_type": "code",
   "execution_count": 8,
   "metadata": {},
   "outputs": [
    {
     "name": "stdout",
     "output_type": "stream",
     "text": [
      "Nombre de commande par utilisateur minimum : 30\n",
      "Nombre de commande par utilisateur maximum : 232\n"
     ]
    }
   ],
   "source": [
    "print('Nombre de commande par utilisateur minimum :', df.groupby('user_id')[['hist_line']].count().min()[0]) # 0 si on compte les absents\n",
    "print('Nombre de commande par utilisateur maximum :', df.groupby('user_id')[['hist_line']].count().max()[0])"
   ]
  },
  {
   "cell_type": "markdown",
   "metadata": {},
   "source": [
    "## Diversité des achats (quantitative)"
   ]
  },
  {
   "cell_type": "code",
   "execution_count": 9,
   "metadata": {},
   "outputs": [],
   "source": [
    "df_bought = df[df.reward > 0]\n",
    "df_bought = df_bought[df_bought.action_item_id == df_bought.item_id]\n",
    "diversity = df_bought.groupby('user_id')[['item_id']].nunique()\n",
    "number = df_bought.groupby('user_id')[['item_id']].nunique()"
   ]
  },
  {
   "cell_type": "code",
   "execution_count": 10,
   "metadata": {},
   "outputs": [
    {
     "name": "stdout",
     "output_type": "stream",
     "text": [
      "Nombre d'articles par utilisateur minimum : 30\n"
     ]
    }
   ],
   "source": [
    "print('Nombre d\\'articles par utilisateur minimum :', df.groupby('user_id')[['item_id']].nunique().min()[0]) # 0 si on compte les absents"
   ]
  },
  {
   "cell_type": "markdown",
   "metadata": {},
   "source": [
    "## Rapport au prix"
   ]
  },
  {
   "cell_type": "code",
   "execution_count": 8,
   "metadata": {},
   "outputs": [
    {
     "name": "stdout",
     "output_type": "stream",
     "text": [
      "Minimum de la dépense moyenne : 478.6666994958898\n",
      "Maximum de la dépense moyenne : 497.6739666563779\n",
      "Minimum de l'ecart type : 285.27444027112324\n",
      "Maximum de l'ecart type : 295.3532546375919\n"
     ]
    }
   ],
   "source": [
    "#df[['user_id', 'item_price', 'metadata_2', 'metadata_3', 'metadata_4']].groupby('user_id').describe()\n",
    "print('Minimum de la dépense moyenne :', df[['user_id', 'item_price']].groupby('user_id').mean().min()[0])\n",
    "print('Maximum de la dépense moyenne :', df[['user_id', 'item_price']].groupby('user_id').mean().max()[0])\n",
    "print('Minimum de l\\'ecart type :', df[['user_id', 'item_price']].groupby('user_id').std().min()[0])\n",
    "print('Maximum de l\\'ecart type :', df[['user_id', 'item_price']].groupby('user_id').std().max()[0])\n"
   ]
  },
  {
   "cell_type": "markdown",
   "metadata": {},
   "source": [
    "## Apparition de nouveaux utilisateurs ?"
   ]
  },
  {
   "cell_type": "code",
   "execution_count": 12,
   "metadata": {},
   "outputs": [],
   "source": [
    "def send_pred(user_id, pred):\n",
    "    adress = 'http://35.180.178.243'\n",
    "    req = requests.get(adress + '/predict?user_id=' + user_id + '&recommended_item=' + str(pred))\n",
    "\n",
    "    data = req.json()\n",
    "    reward = data.pop('reward')\n",
    "    state = data.pop('state')\n",
    "    return reward, state"
   ]
  },
  {
   "cell_type": "code",
   "execution_count": 13,
   "metadata": {},
   "outputs": [],
   "source": [
    "user_df = df.drop_duplicates(subset=['user_id']).sort_values('user_id')[['user_id', 'metadata_0', 'metadata_1']]"
   ]
  },
  {
   "cell_type": "code",
   "execution_count": 14,
   "metadata": {},
   "outputs": [],
   "source": [
    "from numpy import linalg\n",
    "\n",
    "norm = linalg.norm(user_df.values, axis = 1)\n",
    "user_df['metadata_0_normed'] = user_df.metadata_0.values / norm\n",
    "user_df['metadata_1_normed'] = user_df.metadata_1.values / norm"
   ]
  },
  {
   "cell_type": "code",
   "execution_count": 15,
   "metadata": {},
   "outputs": [],
   "source": [
    "user_metadata = user_df[['metadata_0_normed', 'metadata_1_normed']].values"
   ]
  },
  {
   "cell_type": "code",
   "execution_count": 37,
   "metadata": {},
   "outputs": [
    {
     "data": {
      "text/plain": [
       "5"
      ]
     },
     "execution_count": 37,
     "metadata": {},
     "output_type": "execute_result"
    }
   ],
   "source": [
    "user_idx = 15\n",
    "user_id = user_df.user_id.iloc[user_idx]\n",
    "sim = user_metadata.dot(user_metadata[user_idx])\n",
    "sim[user_idx] = -1\n",
    "similar_to_user = np.argmax(sim)\n",
    "user_df.user_id.iloc[similar_to_user]"
   ]
  },
  {
   "cell_type": "code",
   "execution_count": 34,
   "metadata": {},
   "outputs": [
    {
     "name": "stdout",
     "output_type": "stream",
     "text": [
      "Utilisateur 4 similaire a 21\n"
     ]
    }
   ],
   "source": [
    "print('Utilisateur {} similaire a {}'.format(similar_to_user, user_id))"
   ]
  },
  {
   "cell_type": "code",
   "execution_count": 48,
   "metadata": {},
   "outputs": [],
   "source": [
    "def get_sim(user_df, user_idx):\n",
    "    norm = linalg.norm(user_df.values, axis = 1)\n",
    "    user_df['metadata_0_normed'] = user_df.metadata_0.values / norm\n",
    "    user_df['metadata_1_normed'] = user_df.metadata_1.values / norm\n",
    "    user_metadata = user_df[['metadata_0_normed', 'metadata_1_normed']].values\n",
    "    user_id = user_df.user_id.iloc[user_idx]\n",
    "    sim = user_metadata.dot(user_metadata[user_idx])\n",
    "    sim[user_idx] = -1\n",
    "    similar_to_user = np.argmax(sim)\n",
    "    similar_user_id = user_df.user_id.iloc[similar_to_user]\n",
    "    return user_id, similar_user_id "
   ]
  },
  {
   "cell_type": "code",
   "execution_count": 49,
   "metadata": {},
   "outputs": [
    {
     "data": {
      "text/plain": [
       "(24, 48)"
      ]
     },
     "execution_count": 49,
     "metadata": {},
     "output_type": "execute_result"
    }
   ],
   "source": [
    "get_sim(df_bought, 10)"
   ]
  },
  {
   "cell_type": "code",
   "execution_count": 50,
   "metadata": {},
   "outputs": [
    {
     "data": {
      "text/html": [
       "<div>\n",
       "<style scoped>\n",
       "    .dataframe tbody tr th:only-of-type {\n",
       "        vertical-align: middle;\n",
       "    }\n",
       "\n",
       "    .dataframe tbody tr th {\n",
       "        vertical-align: top;\n",
       "    }\n",
       "\n",
       "    .dataframe thead th {\n",
       "        text-align: right;\n",
       "    }\n",
       "</style>\n",
       "<table border=\"1\" class=\"dataframe\">\n",
       "  <thead>\n",
       "    <tr style=\"text-align: right;\">\n",
       "      <th></th>\n",
       "      <th>user_id</th>\n",
       "      <th>item_id</th>\n",
       "      <th>item_price</th>\n",
       "      <th>metadata_0</th>\n",
       "      <th>metadata_1</th>\n",
       "      <th>metadata_2</th>\n",
       "      <th>metadata_3</th>\n",
       "      <th>metadata_4</th>\n",
       "      <th>hist_line</th>\n",
       "      <th>action_item_id</th>\n",
       "      <th>reward</th>\n",
       "      <th>metadata_0_normed</th>\n",
       "      <th>metadata_1_normed</th>\n",
       "    </tr>\n",
       "  </thead>\n",
       "  <tbody>\n",
       "    <tr>\n",
       "      <th>1633</th>\n",
       "      <td>24</td>\n",
       "      <td>21</td>\n",
       "      <td>246.886226</td>\n",
       "      <td>0.958731</td>\n",
       "      <td>2.312526</td>\n",
       "      <td>1.925705</td>\n",
       "      <td>1.393613</td>\n",
       "      <td>0.536742</td>\n",
       "      <td>54</td>\n",
       "      <td>21</td>\n",
       "      <td>246.886226</td>\n",
       "      <td>0.002698</td>\n",
       "      <td>0.006507</td>\n",
       "    </tr>\n",
       "  </tbody>\n",
       "</table>\n",
       "</div>"
      ],
      "text/plain": [
       "      user_id  item_id  item_price  metadata_0  metadata_1  metadata_2  \\\n",
       "1633       24       21  246.886226    0.958731    2.312526    1.925705   \n",
       "\n",
       "      metadata_3  metadata_4  hist_line  action_item_id      reward  \\\n",
       "1633    1.393613    0.536742         54              21  246.886226   \n",
       "\n",
       "      metadata_0_normed  metadata_1_normed  \n",
       "1633           0.002698           0.006507  "
      ]
     },
     "execution_count": 50,
     "metadata": {},
     "output_type": "execute_result"
    }
   ],
   "source": [
    "df_bought[df_bought.user_id == 24]"
   ]
  },
  {
   "cell_type": "code",
   "execution_count": 51,
   "metadata": {},
   "outputs": [
    {
     "data": {
      "text/html": [
       "<div>\n",
       "<style scoped>\n",
       "    .dataframe tbody tr th:only-of-type {\n",
       "        vertical-align: middle;\n",
       "    }\n",
       "\n",
       "    .dataframe tbody tr th {\n",
       "        vertical-align: top;\n",
       "    }\n",
       "\n",
       "    .dataframe thead th {\n",
       "        text-align: right;\n",
       "    }\n",
       "</style>\n",
       "<table border=\"1\" class=\"dataframe\">\n",
       "  <thead>\n",
       "    <tr style=\"text-align: right;\">\n",
       "      <th></th>\n",
       "      <th>user_id</th>\n",
       "      <th>item_id</th>\n",
       "      <th>item_price</th>\n",
       "      <th>metadata_0</th>\n",
       "      <th>metadata_1</th>\n",
       "      <th>metadata_2</th>\n",
       "      <th>metadata_3</th>\n",
       "      <th>metadata_4</th>\n",
       "      <th>hist_line</th>\n",
       "      <th>action_item_id</th>\n",
       "      <th>reward</th>\n",
       "      <th>metadata_0_normed</th>\n",
       "      <th>metadata_1_normed</th>\n",
       "    </tr>\n",
       "  </thead>\n",
       "  <tbody>\n",
       "    <tr>\n",
       "      <th>2013</th>\n",
       "      <td>48</td>\n",
       "      <td>12</td>\n",
       "      <td>88.726188</td>\n",
       "      <td>2.650728</td>\n",
       "      <td>1.769263</td>\n",
       "      <td>1.058451</td>\n",
       "      <td>1.234963</td>\n",
       "      <td>0.957324</td>\n",
       "      <td>67</td>\n",
       "      <td>12</td>\n",
       "      <td>88.726188</td>\n",
       "      <td>0.01754</td>\n",
       "      <td>0.011707</td>\n",
       "    </tr>\n",
       "  </tbody>\n",
       "</table>\n",
       "</div>"
      ],
      "text/plain": [
       "      user_id  item_id  item_price  metadata_0  metadata_1  metadata_2  \\\n",
       "2013       48       12   88.726188    2.650728    1.769263    1.058451   \n",
       "\n",
       "      metadata_3  metadata_4  hist_line  action_item_id     reward  \\\n",
       "2013    1.234963    0.957324         67              12  88.726188   \n",
       "\n",
       "      metadata_0_normed  metadata_1_normed  \n",
       "2013            0.01754           0.011707  "
      ]
     },
     "execution_count": 51,
     "metadata": {},
     "output_type": "execute_result"
    }
   ],
   "source": [
    "df_bought[df_bought.user_id == 48]"
   ]
  },
  {
   "cell_type": "code",
   "execution_count": 70,
   "metadata": {},
   "outputs": [
    {
     "data": {
      "text/html": [
       "<div>\n",
       "<style scoped>\n",
       "    .dataframe tbody tr th:only-of-type {\n",
       "        vertical-align: middle;\n",
       "    }\n",
       "\n",
       "    .dataframe tbody tr th {\n",
       "        vertical-align: top;\n",
       "    }\n",
       "\n",
       "    .dataframe thead th {\n",
       "        text-align: right;\n",
       "    }\n",
       "</style>\n",
       "<table border=\"1\" class=\"dataframe\">\n",
       "  <thead>\n",
       "    <tr style=\"text-align: right;\">\n",
       "      <th></th>\n",
       "      <th>item_id</th>\n",
       "    </tr>\n",
       "    <tr>\n",
       "      <th>user_id</th>\n",
       "      <th></th>\n",
       "    </tr>\n",
       "  </thead>\n",
       "  <tbody>\n",
       "    <tr>\n",
       "      <th>1</th>\n",
       "      <td>True</td>\n",
       "    </tr>\n",
       "    <tr>\n",
       "      <th>5</th>\n",
       "      <td>True</td>\n",
       "    </tr>\n",
       "    <tr>\n",
       "      <th>9</th>\n",
       "      <td>True</td>\n",
       "    </tr>\n",
       "    <tr>\n",
       "      <th>11</th>\n",
       "      <td>True</td>\n",
       "    </tr>\n",
       "    <tr>\n",
       "      <th>15</th>\n",
       "      <td>True</td>\n",
       "    </tr>\n",
       "    <tr>\n",
       "      <th>17</th>\n",
       "      <td>True</td>\n",
       "    </tr>\n",
       "    <tr>\n",
       "      <th>21</th>\n",
       "      <td>True</td>\n",
       "    </tr>\n",
       "    <tr>\n",
       "      <th>22</th>\n",
       "      <td>True</td>\n",
       "    </tr>\n",
       "    <tr>\n",
       "      <th>24</th>\n",
       "      <td>True</td>\n",
       "    </tr>\n",
       "    <tr>\n",
       "      <th>25</th>\n",
       "      <td>True</td>\n",
       "    </tr>\n",
       "    <tr>\n",
       "      <th>30</th>\n",
       "      <td>True</td>\n",
       "    </tr>\n",
       "    <tr>\n",
       "      <th>31</th>\n",
       "      <td>True</td>\n",
       "    </tr>\n",
       "    <tr>\n",
       "      <th>33</th>\n",
       "      <td>True</td>\n",
       "    </tr>\n",
       "    <tr>\n",
       "      <th>36</th>\n",
       "      <td>True</td>\n",
       "    </tr>\n",
       "    <tr>\n",
       "      <th>38</th>\n",
       "      <td>True</td>\n",
       "    </tr>\n",
       "    <tr>\n",
       "      <th>42</th>\n",
       "      <td>True</td>\n",
       "    </tr>\n",
       "    <tr>\n",
       "      <th>43</th>\n",
       "      <td>True</td>\n",
       "    </tr>\n",
       "    <tr>\n",
       "      <th>46</th>\n",
       "      <td>True</td>\n",
       "    </tr>\n",
       "    <tr>\n",
       "      <th>48</th>\n",
       "      <td>True</td>\n",
       "    </tr>\n",
       "    <tr>\n",
       "      <th>49</th>\n",
       "      <td>True</td>\n",
       "    </tr>\n",
       "    <tr>\n",
       "      <th>50</th>\n",
       "      <td>True</td>\n",
       "    </tr>\n",
       "    <tr>\n",
       "      <th>52</th>\n",
       "      <td>True</td>\n",
       "    </tr>\n",
       "    <tr>\n",
       "      <th>54</th>\n",
       "      <td>True</td>\n",
       "    </tr>\n",
       "    <tr>\n",
       "      <th>55</th>\n",
       "      <td>True</td>\n",
       "    </tr>\n",
       "    <tr>\n",
       "      <th>59</th>\n",
       "      <td>True</td>\n",
       "    </tr>\n",
       "    <tr>\n",
       "      <th>62</th>\n",
       "      <td>True</td>\n",
       "    </tr>\n",
       "    <tr>\n",
       "      <th>64</th>\n",
       "      <td>True</td>\n",
       "    </tr>\n",
       "    <tr>\n",
       "      <th>67</th>\n",
       "      <td>True</td>\n",
       "    </tr>\n",
       "    <tr>\n",
       "      <th>68</th>\n",
       "      <td>True</td>\n",
       "    </tr>\n",
       "    <tr>\n",
       "      <th>69</th>\n",
       "      <td>True</td>\n",
       "    </tr>\n",
       "    <tr>\n",
       "      <th>70</th>\n",
       "      <td>True</td>\n",
       "    </tr>\n",
       "    <tr>\n",
       "      <th>71</th>\n",
       "      <td>True</td>\n",
       "    </tr>\n",
       "    <tr>\n",
       "      <th>76</th>\n",
       "      <td>True</td>\n",
       "    </tr>\n",
       "    <tr>\n",
       "      <th>78</th>\n",
       "      <td>True</td>\n",
       "    </tr>\n",
       "    <tr>\n",
       "      <th>79</th>\n",
       "      <td>True</td>\n",
       "    </tr>\n",
       "    <tr>\n",
       "      <th>81</th>\n",
       "      <td>True</td>\n",
       "    </tr>\n",
       "    <tr>\n",
       "      <th>82</th>\n",
       "      <td>True</td>\n",
       "    </tr>\n",
       "    <tr>\n",
       "      <th>84</th>\n",
       "      <td>True</td>\n",
       "    </tr>\n",
       "    <tr>\n",
       "      <th>86</th>\n",
       "      <td>True</td>\n",
       "    </tr>\n",
       "    <tr>\n",
       "      <th>89</th>\n",
       "      <td>True</td>\n",
       "    </tr>\n",
       "    <tr>\n",
       "      <th>91</th>\n",
       "      <td>True</td>\n",
       "    </tr>\n",
       "  </tbody>\n",
       "</table>\n",
       "</div>"
      ],
      "text/plain": [
       "         item_id\n",
       "user_id         \n",
       "1           True\n",
       "5           True\n",
       "9           True\n",
       "11          True\n",
       "15          True\n",
       "17          True\n",
       "21          True\n",
       "22          True\n",
       "24          True\n",
       "25          True\n",
       "30          True\n",
       "31          True\n",
       "33          True\n",
       "36          True\n",
       "38          True\n",
       "42          True\n",
       "43          True\n",
       "46          True\n",
       "48          True\n",
       "49          True\n",
       "50          True\n",
       "52          True\n",
       "54          True\n",
       "55          True\n",
       "59          True\n",
       "62          True\n",
       "64          True\n",
       "67          True\n",
       "68          True\n",
       "69          True\n",
       "70          True\n",
       "71          True\n",
       "76          True\n",
       "78          True\n",
       "79          True\n",
       "81          True\n",
       "82          True\n",
       "84          True\n",
       "86          True\n",
       "89          True\n",
       "91          True"
      ]
     },
     "execution_count": 70,
     "metadata": {},
     "output_type": "execute_result"
    }
   ],
   "source": [
    "df_bought[['user_id', 'item_df_id']].groupby(['user_id']).nunique()[['item_id']] == df_bought[['user_id', 'item_id']].groupby(['user_id']).count()"
   ]
  },
  {
   "cell_type": "code",
   "execution_count": null,
   "metadata": {},
   "outputs": [],
   "source": []
  }
 ],
 "metadata": {
  "kernelspec": {
   "display_name": "Python 3",
   "language": "python",
   "name": "python3"
  },
  "language_info": {
   "codemirror_mode": {
    "name": "ipython",
    "version": 3
   },
   "file_extension": ".py",
   "mimetype": "text/x-python",
   "name": "python",
   "nbconvert_exporter": "python",
   "pygments_lexer": "ipython3",
   "version": "3.6.8"
  }
 },
 "nbformat": 4,
 "nbformat_minor": 2
}
