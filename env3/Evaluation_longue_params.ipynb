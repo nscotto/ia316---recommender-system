{
 "cells": [
  {
   "cell_type": "markdown",
   "metadata": {},
   "source": [
    "# Recommandation avec cold start"
   ]
  },
  {
   "cell_type": "code",
   "execution_count": 1,
   "metadata": {},
   "outputs": [
    {
     "name": "stderr",
     "output_type": "stream",
     "text": [
      "Using TensorFlow backend.\n"
     ]
    }
   ],
   "source": [
    "import pandas as pd\n",
    "\n",
    "import seaborn as sns\n",
    "\n",
    "from deep_implicit_feedback_recsys import *\n",
    "\n",
    "from cold_star_recommender import *\n",
    "\n",
    "from recommender_evaluation import *"
   ]
  },
  {
   "cell_type": "code",
   "execution_count": 2,
   "metadata": {},
   "outputs": [],
   "source": [
    "def normalized_results(df, recommender_type):\n",
    "    df['average_reward_normalized_max'] = df['average_reward'] / df['max_price']\n",
    "    df['average_reward_normalized_mean'] = df['average_reward'] / df['mean_price']\n",
    "    df['recommendation'] = recommender_type\n",
    "    return df"
   ]
  },
  {
   "cell_type": "code",
   "execution_count": 3,
   "metadata": {},
   "outputs": [],
   "source": [
    "n_loop = 10\n",
    "n_pred = 1000\n",
    "online_batch_size = n_pred // 10\n",
    "\n",
    "user_dim = item_dim = 8\n",
    "n_hidden = 1\n",
    "hidden_size = 64\n",
    "dropout = 0.1\n",
    "l2_reg = 0\n",
    "\n",
    "ID = 'MC15CHD1JU24INEKKPU4'\n"
   ]
  },
  {
   "cell_type": "markdown",
   "metadata": {},
   "source": [
    "## Mesures d'échantillon"
   ]
  },
  {
   "cell_type": "markdown",
   "metadata": {},
   "source": [
    "### Implicit Recommender avec nuls sans indicateur, en ligne\n"
   ]
  },
  {
   "cell_type": "code",
   "execution_count": null,
   "metadata": {},
   "outputs": [],
   "source": [
    "%%time\n",
    "ImplicitRecommenderWithNull_no_indicator_online_df = \\\n",
    "    eval_loop_ColdStartImplicitRecommender(ColdStartRecommenderClass=ColdStartImplicitRecommender,\n",
    "                                           ImplicitRecommenderClass=ImplicitRecommenderWithNull_no_indicator,\n",
    "                                           n_loop=n_loop, n_pred=n_pred,\n",
    "                                           online_batch_size=1,\n",
    "                                           user_dim=user_dim, item_dim=item_dim,\n",
    "                                           n_hidden=n_hidden, hidden_size=hidden_size, \n",
    "                                           dropout=dropout, l2_reg=l2_reg)\n"
   ]
  },
  {
   "cell_type": "code",
   "execution_count": null,
   "metadata": {},
   "outputs": [],
   "source": [
    "ImplicitRecommenderWithNull_no_indicator_online_df_normalized = normalized_results(ImplicitRecommenderWithNull_no_indicator_online_df,\n",
    "                                                                                   'Null, en ligne')\n",
    "ImplicitRecommenderWithNull_no_indicator_online_df_normalized"
   ]
  },
  {
   "cell_type": "markdown",
   "metadata": {},
   "source": [
    "### Implicit Recommender avec nuls et indicateur special, hors ligne"
   ]
  },
  {
   "cell_type": "code",
   "execution_count": null,
   "metadata": {},
   "outputs": [],
   "source": [
    "%%time\n",
    "ImplicitRecommenderWithNull_df = \\\n",
    "    eval_loop_ColdStartImplicitRecommender(ColdStartRecommenderClass=ColdStartImplicitRecommender,\n",
    "                                           ImplicitRecommenderClass=ImplicitRecommenderWithNull,\n",
    "                                           n_loop=n_loop, n_pred=n_pred,\n",
    "                                           user_dim=user_dim, item_dim=item_dim,\n",
    "                                           n_hidden=n_hidden, hidden_size=hidden_size, \n",
    "                                           dropout=dropout, l2_reg=l2_reg)\n",
    "                                           "
   ]
  },
  {
   "cell_type": "code",
   "execution_count": null,
   "metadata": {},
   "outputs": [],
   "source": [
    "ImplicitRecommenderWithNull_df_normalized = normalized_results(ImplicitRecommenderWithNull_df, 'Null special, hors ligne')\n",
    "ImplicitRecommenderWithNull_df_normalized"
   ]
  },
  {
   "cell_type": "markdown",
   "metadata": {},
   "source": [
    "### Implicit Recommender avec nuls et indicateur special, en ligne\n"
   ]
  },
  {
   "cell_type": "code",
   "execution_count": null,
   "metadata": {},
   "outputs": [],
   "source": [
    "%%time\n",
    "ImplicitRecommenderWithNull_online_df = \\\n",
    "    eval_loop_ColdStartImplicitRecommender(ColdStartRecommenderClass=ColdStartImplicitRecommender,\n",
    "                                           ImplicitRecommenderClass=ImplicitRecommenderWithNull,\n",
    "                                           n_loop=n_loop, n_pred=n_pred,\n",
    "                                           online_batch_size=1,\n",
    "                                           user_dim=user_dim, item_dim=item_dim,\n",
    "                                           n_hidden=n_hidden, hidden_size=hidden_size, \n",
    "                                           dropout=dropout, l2_reg=l2_reg)\n"
   ]
  },
  {
   "cell_type": "code",
   "execution_count": null,
   "metadata": {},
   "outputs": [],
   "source": [
    "ImplicitRecommenderWithNull_online_df_normalized = normalized_results(ImplicitRecommenderWithNull_online_df, 'Null special, en ligne')\n",
    "ImplicitRecommenderWithNull_online_df_normalized"
   ]
  },
  {
   "cell_type": "markdown",
   "metadata": {},
   "source": [
    "### Implicit Recommender avec nuls et indicateur special, en ligne version batch\n"
   ]
  },
  {
   "cell_type": "code",
   "execution_count": null,
   "metadata": {},
   "outputs": [],
   "source": [
    "%%time\n",
    "ImplicitRecommenderWithNull_online_batch_df = \\\n",
    "    eval_loop_ColdStartImplicitRecommender(ColdStartRecommenderClass=ColdStartImplicitRecommender,\n",
    "                                           ImplicitRecommenderClass=ImplicitRecommenderWithNull,\n",
    "                                           n_loop=n_loop, n_pred=n_pred,\n",
    "                                           online_batch_size=online_batch_size,\n",
    "                                           user_dim=user_dim, item_dim=item_dim,\n",
    "                                           n_hidden=n_hidden, hidden_size=hidden_size, \n",
    "                                           dropout=dropout, l2_reg=l2_reg)\n"
   ]
  },
  {
   "cell_type": "code",
   "execution_count": null,
   "metadata": {},
   "outputs": [],
   "source": [
    "ImplicitRecommenderWithNull_online_batch_df_normalized = \\\n",
    "    normalized_results(ImplicitRecommenderWithNull_online_batch_df, 'Null special, en ligne (batch)')\n",
    "ImplicitRecommenderWithNull_online_batch_df_normalized"
   ]
  },
  {
   "cell_type": "markdown",
   "metadata": {},
   "source": [
    "### Fully Implicit Recommender avec nuls et indicateur binaire, en ligne version batch\n"
   ]
  },
  {
   "cell_type": "code",
   "execution_count": null,
   "metadata": {},
   "outputs": [],
   "source": [
    "%%time\n",
    "FullyImplicitRecommenderWithNull_binary_indicator_online_batch_df = \\\n",
    "    eval_loop_ColdStartImplicitRecommender(ColdStartRecommenderClass=ColdStartFullyImplicitRecommender,\n",
    "                                           ImplicitRecommenderClass=ImplicitRecommenderWithNull_binary_indicator,\n",
    "                                           n_loop=n_loop, n_pred=n_pred,\n",
    "                                           online_batch_size=online_batch_size,\n",
    "                                           user_dim=user_dim, item_dim=item_dim,\n",
    "                                           n_hidden=n_hidden, hidden_size=hidden_size, \n",
    "                                           dropout=dropout, l2_reg=l2_reg)\n"
   ]
  },
  {
   "cell_type": "code",
   "execution_count": null,
   "metadata": {},
   "outputs": [],
   "source": [
    "FullyImplicitRecommenderWithNull_binary_indicator_online_batch_df_normalized = \\\n",
    "    normalized_results(FullyImplicitRecommenderWithNull_binary_indicator_online_batch_df, 'Fully Implicit Null binaire, en ligne (batch)')\n",
    "FullyImplicitRecommenderWithNull_binary_indicator_online_batch_df_normalized"
   ]
  },
  {
   "cell_type": "markdown",
   "metadata": {},
   "source": [
    "## Aggregation des résutats"
   ]
  },
  {
   "cell_type": "code",
   "execution_count": null,
   "metadata": {},
   "outputs": [],
   "source": [
    "all_results = pd.concat( (\n",
    "    ImplicitRecommenderWithNull_no_indicator_online_df_normalized,\n",
    "    ImplicitRecommenderWithNull_df_normalized,\n",
    "    ImplicitRecommenderWithNull_online_df_normalized,\n",
    "    ImplicitRecommenderWithNull_online_batch_df_normalized,\n",
    "    \n",
    "    FullyImplicitRecommenderWithNull_binary_indicator_online_batch_df_normalized,\n",
    "), axis = 0)"
   ]
  },
  {
   "cell_type": "code",
   "execution_count": null,
   "metadata": {},
   "outputs": [],
   "source": [
    "aggregat = all_results.groupby('recommendation').mean()"
   ]
  },
  {
   "cell_type": "markdown",
   "metadata": {},
   "source": [
    "### Classement ratio de recommandations effectives"
   ]
  },
  {
   "cell_type": "code",
   "execution_count": null,
   "metadata": {},
   "outputs": [],
   "source": [
    "col = 'good_reco_ratio' \n",
    "aggregat.sort_values(col, ascending=False)\\\n",
    "    .style.apply((lambda x: ['background: lightgreen' if x.name == col else '' for _ in x]))"
   ]
  },
  {
   "cell_type": "markdown",
   "metadata": {},
   "source": [
    "### Classement par average reward normalisée (max)"
   ]
  },
  {
   "cell_type": "code",
   "execution_count": null,
   "metadata": {},
   "outputs": [],
   "source": [
    "col = 'average_reward_normalized_max' \n",
    "aggregat.sort_values(col, ascending=False)\\\n",
    "    .style.apply((lambda x: ['background: lightgreen' if x.name == col else '' for _ in x]))"
   ]
  },
  {
   "cell_type": "markdown",
   "metadata": {},
   "source": [
    "### Classement par average reward normalisée (mean)"
   ]
  },
  {
   "cell_type": "code",
   "execution_count": null,
   "metadata": {},
   "outputs": [],
   "source": [
    "col = 'average_reward_normalized_mean' \n",
    "aggregat.sort_values(col, ascending=False)\\\n",
    "    .style.apply((lambda x: ['background: lightgreen' if x.name == col else '' for _ in x]))"
   ]
  },
  {
   "cell_type": "markdown",
   "metadata": {},
   "source": [
    "### Résumé (classé par average_reward)"
   ]
  },
  {
   "cell_type": "code",
   "execution_count": null,
   "metadata": {},
   "outputs": [],
   "source": [
    "cm = sns.light_palette(\"green\", as_cmap=True)\n",
    "col = 'average_reward' \n",
    "aggregat.sort_values(col, ascending=False)\\\n",
    "    .style.background_gradient(cmap=cm).highlight_max(color='red')"
   ]
  },
  {
   "cell_type": "markdown",
   "metadata": {},
   "source": [
    "La recommendation prenant en charge les nulls semble meilleure. <br>\n",
    "  1) Null secial en ligne (batch) <br>\n",
    "  2) Fully Implicit Null special, en ligne (batch) <br>\n",
    "  3) Null, hors ligne <br>"
   ]
  },
  {
   "cell_type": "code",
   "execution_count": null,
   "metadata": {},
   "outputs": [],
   "source": []
  }
 ],
 "metadata": {
  "kernelspec": {
   "display_name": "Python 3",
   "language": "python",
   "name": "python3"
  },
  "language_info": {
   "codemirror_mode": {
    "name": "ipython",
    "version": 3
   },
   "file_extension": ".py",
   "mimetype": "text/x-python",
   "name": "python",
   "nbconvert_exporter": "python",
   "pygments_lexer": "ipython3",
   "version": "3.6.8"
  }
 },
 "nbformat": 4,
 "nbformat_minor": 2
}
